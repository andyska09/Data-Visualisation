{
 "cells": [
  {
   "cell_type": "code",
   "execution_count": 1,
   "metadata": {},
   "outputs": [
    {
     "name": "stdout",
     "output_type": "stream",
     "text": [
      "<class 'pandas.core.frame.DataFrame'>\n",
      "RangeIndex: 167556 entries, 0 to 167555\n",
      "Data columns (total 12 columns):\n",
      " #   Column            Non-Null Count   Dtype \n",
      "---  ------            --------------   ----- \n",
      " 0   Animal ID         167556 non-null  object\n",
      " 1   Name              119338 non-null  object\n",
      " 2   DateTime          167556 non-null  object\n",
      " 3   MonthYear         167556 non-null  object\n",
      " 4   Found Location    167556 non-null  object\n",
      " 5   Intake Type       167556 non-null  object\n",
      " 6   Intake Condition  167556 non-null  object\n",
      " 7   Animal Type       167556 non-null  object\n",
      " 8   Sex upon Intake   167554 non-null  object\n",
      " 9   Age upon Intake   167555 non-null  object\n",
      " 10  Breed             167556 non-null  object\n",
      " 11  Color             167556 non-null  object\n",
      "dtypes: object(12)\n",
      "memory usage: 15.3+ MB\n",
      "<class 'pandas.core.frame.DataFrame'>\n",
      "RangeIndex: 167559 entries, 0 to 167558\n",
      "Data columns (total 12 columns):\n",
      " #   Column            Non-Null Count   Dtype \n",
      "---  ------            --------------   ----- \n",
      " 0   Animal ID         167559 non-null  object\n",
      " 1   Name              119476 non-null  object\n",
      " 2   DateTime          167559 non-null  object\n",
      " 3   MonthYear         167559 non-null  object\n",
      " 4   Date of Birth     167559 non-null  object\n",
      " 5   Outcome Type      167515 non-null  object\n",
      " 6   Outcome Subtype   76968 non-null   object\n",
      " 7   Animal Type       167559 non-null  object\n",
      " 8   Sex upon Outcome  167556 non-null  object\n",
      " 9   Age upon Outcome  167512 non-null  object\n",
      " 10  Breed             167559 non-null  object\n",
      " 11  Color             167559 non-null  object\n",
      "dtypes: object(12)\n",
      "memory usage: 15.3+ MB\n"
     ]
    }
   ],
   "source": [
    "import numpy as np\n",
    "import pandas as pd\n",
    "import matplotlib.pyplot as plt\n",
    "import matplotlib.ticker as ticker\n",
    "\n",
    "intakes = pd.read_csv(\"intakes.csv\")\n",
    "outcomes = pd.read_csv(\"outcomes.csv\")\n",
    "intakes.info()\n",
    "outcomes.info()"
   ]
  }
 ],
 "metadata": {
  "kernelspec": {
   "display_name": "Python 3 (ipykernel)",
   "language": "python",
   "name": "python3"
  },
  "language_info": {
   "codemirror_mode": {
    "name": "ipython",
    "version": 3
   },
   "file_extension": ".py",
   "mimetype": "text/x-python",
   "name": "python",
   "nbconvert_exporter": "python",
   "pygments_lexer": "ipython3",
   "version": "3.8.18"
  }
 },
 "nbformat": 4,
 "nbformat_minor": 2
}

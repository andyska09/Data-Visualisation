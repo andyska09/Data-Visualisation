{
 "cells": [
  {
   "cell_type": "markdown",
   "metadata": {},
   "source": [
    "# Domácí úkol 01"
   ]
  },
  {
   "cell_type": "code",
   "execution_count": 516,
   "metadata": {},
   "outputs": [],
   "source": [
    "import numpy as np\n",
    "import pandas as pd\n",
    "import matplotlib.pyplot as plt\n",
    "import matplotlib.ticker as ticker\n",
    "import matplotlib.colors as colors\n",
    "from matplotlib.patches import Patch"
   ]
  },
  {
   "cell_type": "markdown",
   "metadata": {},
   "source": [
    "## Předzpracování dat"
   ]
  },
  {
   "cell_type": "code",
   "execution_count": 517,
   "metadata": {},
   "outputs": [],
   "source": [
    "intakes = pd.read_csv(\"intakes.csv\")\n",
    "outcomes = pd.read_csv(\"outcomes.csv\")"
   ]
  },
  {
   "cell_type": "code",
   "execution_count": 518,
   "metadata": {},
   "outputs": [
    {
     "name": "stdout",
     "output_type": "stream",
     "text": [
      "<class 'pandas.core.frame.DataFrame'>\n",
      "RangeIndex: 167556 entries, 0 to 167555\n",
      "Data columns (total 12 columns):\n",
      " #   Column            Non-Null Count   Dtype \n",
      "---  ------            --------------   ----- \n",
      " 0   Animal ID         167556 non-null  object\n",
      " 1   Name              119338 non-null  object\n",
      " 2   DateTime          167556 non-null  object\n",
      " 3   MonthYear         167556 non-null  object\n",
      " 4   Found Location    167556 non-null  object\n",
      " 5   Intake Type       167556 non-null  object\n",
      " 6   Intake Condition  167556 non-null  object\n",
      " 7   Animal Type       167556 non-null  object\n",
      " 8   Sex upon Intake   167554 non-null  object\n",
      " 9   Age upon Intake   167555 non-null  object\n",
      " 10  Breed             167556 non-null  object\n",
      " 11  Color             167556 non-null  object\n",
      "dtypes: object(12)\n",
      "memory usage: 15.3+ MB\n"
     ]
    },
    {
     "data": {
      "text/plain": [
       "None"
      ]
     },
     "metadata": {},
     "output_type": "display_data"
    },
    {
     "name": "stdout",
     "output_type": "stream",
     "text": [
      "<class 'pandas.core.frame.DataFrame'>\n",
      "RangeIndex: 167559 entries, 0 to 167558\n",
      "Data columns (total 12 columns):\n",
      " #   Column            Non-Null Count   Dtype \n",
      "---  ------            --------------   ----- \n",
      " 0   Animal ID         167559 non-null  object\n",
      " 1   Name              119476 non-null  object\n",
      " 2   DateTime          167559 non-null  object\n",
      " 3   MonthYear         167559 non-null  object\n",
      " 4   Date of Birth     167559 non-null  object\n",
      " 5   Outcome Type      167515 non-null  object\n",
      " 6   Outcome Subtype   76968 non-null   object\n",
      " 7   Animal Type       167559 non-null  object\n",
      " 8   Sex upon Outcome  167556 non-null  object\n",
      " 9   Age upon Outcome  167512 non-null  object\n",
      " 10  Breed             167559 non-null  object\n",
      " 11  Color             167559 non-null  object\n",
      "dtypes: object(12)\n",
      "memory usage: 15.3+ MB\n",
      "Intakes:\n"
     ]
    },
    {
     "data": {
      "text/html": [
       "<div>\n",
       "<style scoped>\n",
       "    .dataframe tbody tr th:only-of-type {\n",
       "        vertical-align: middle;\n",
       "    }\n",
       "\n",
       "    .dataframe tbody tr th {\n",
       "        vertical-align: top;\n",
       "    }\n",
       "\n",
       "    .dataframe thead th {\n",
       "        text-align: right;\n",
       "    }\n",
       "</style>\n",
       "<table border=\"1\" class=\"dataframe\">\n",
       "  <thead>\n",
       "    <tr style=\"text-align: right;\">\n",
       "      <th></th>\n",
       "      <th>Animal ID</th>\n",
       "      <th>Name</th>\n",
       "      <th>DateTime</th>\n",
       "      <th>MonthYear</th>\n",
       "      <th>Found Location</th>\n",
       "      <th>Intake Type</th>\n",
       "      <th>Intake Condition</th>\n",
       "      <th>Animal Type</th>\n",
       "      <th>Sex upon Intake</th>\n",
       "      <th>Age upon Intake</th>\n",
       "      <th>Breed</th>\n",
       "      <th>Color</th>\n",
       "    </tr>\n",
       "  </thead>\n",
       "  <tbody>\n",
       "    <tr>\n",
       "      <th>0</th>\n",
       "      <td>A786884</td>\n",
       "      <td>*Brock</td>\n",
       "      <td>01/03/2019 04:19:00 PM</td>\n",
       "      <td>January 2019</td>\n",
       "      <td>2501 Magin Meadow Dr in Austin (TX)</td>\n",
       "      <td>Stray</td>\n",
       "      <td>Normal</td>\n",
       "      <td>Dog</td>\n",
       "      <td>Neutered Male</td>\n",
       "      <td>2 years</td>\n",
       "      <td>Beagle Mix</td>\n",
       "      <td>Tricolor</td>\n",
       "    </tr>\n",
       "    <tr>\n",
       "      <th>1</th>\n",
       "      <td>A706918</td>\n",
       "      <td>Belle</td>\n",
       "      <td>07/05/2015 12:59:00 PM</td>\n",
       "      <td>July 2015</td>\n",
       "      <td>9409 Bluegrass Dr in Austin (TX)</td>\n",
       "      <td>Stray</td>\n",
       "      <td>Normal</td>\n",
       "      <td>Dog</td>\n",
       "      <td>Spayed Female</td>\n",
       "      <td>8 years</td>\n",
       "      <td>English Springer Spaniel</td>\n",
       "      <td>White/Liver</td>\n",
       "    </tr>\n",
       "    <tr>\n",
       "      <th>2</th>\n",
       "      <td>A724273</td>\n",
       "      <td>Runster</td>\n",
       "      <td>04/14/2016 06:43:00 PM</td>\n",
       "      <td>April 2016</td>\n",
       "      <td>2818 Palomino Trail in Austin (TX)</td>\n",
       "      <td>Stray</td>\n",
       "      <td>Normal</td>\n",
       "      <td>Dog</td>\n",
       "      <td>Intact Male</td>\n",
       "      <td>11 months</td>\n",
       "      <td>Basenji Mix</td>\n",
       "      <td>Sable/White</td>\n",
       "    </tr>\n",
       "    <tr>\n",
       "      <th>3</th>\n",
       "      <td>A665644</td>\n",
       "      <td>NaN</td>\n",
       "      <td>10/21/2013 07:59:00 AM</td>\n",
       "      <td>October 2013</td>\n",
       "      <td>Austin (TX)</td>\n",
       "      <td>Stray</td>\n",
       "      <td>Sick</td>\n",
       "      <td>Cat</td>\n",
       "      <td>Intact Female</td>\n",
       "      <td>4 weeks</td>\n",
       "      <td>Domestic Shorthair Mix</td>\n",
       "      <td>Calico</td>\n",
       "    </tr>\n",
       "    <tr>\n",
       "      <th>4</th>\n",
       "      <td>A857105</td>\n",
       "      <td>Johnny Ringo</td>\n",
       "      <td>05/12/2022 12:23:00 AM</td>\n",
       "      <td>May 2022</td>\n",
       "      <td>4404 Sarasota Drive in Austin (TX)</td>\n",
       "      <td>Public Assist</td>\n",
       "      <td>Normal</td>\n",
       "      <td>Cat</td>\n",
       "      <td>Neutered Male</td>\n",
       "      <td>2 years</td>\n",
       "      <td>Domestic Shorthair</td>\n",
       "      <td>Orange Tabby</td>\n",
       "    </tr>\n",
       "  </tbody>\n",
       "</table>\n",
       "</div>"
      ],
      "text/plain": [
       "  Animal ID          Name                DateTime     MonthYear  \\\n",
       "0   A786884        *Brock  01/03/2019 04:19:00 PM  January 2019   \n",
       "1   A706918         Belle  07/05/2015 12:59:00 PM     July 2015   \n",
       "2   A724273       Runster  04/14/2016 06:43:00 PM    April 2016   \n",
       "3   A665644           NaN  10/21/2013 07:59:00 AM  October 2013   \n",
       "4   A857105  Johnny Ringo  05/12/2022 12:23:00 AM      May 2022   \n",
       "\n",
       "                        Found Location    Intake Type Intake Condition  \\\n",
       "0  2501 Magin Meadow Dr in Austin (TX)          Stray           Normal   \n",
       "1     9409 Bluegrass Dr in Austin (TX)          Stray           Normal   \n",
       "2   2818 Palomino Trail in Austin (TX)          Stray           Normal   \n",
       "3                          Austin (TX)          Stray             Sick   \n",
       "4   4404 Sarasota Drive in Austin (TX)  Public Assist           Normal   \n",
       "\n",
       "  Animal Type Sex upon Intake Age upon Intake                     Breed  \\\n",
       "0         Dog   Neutered Male         2 years                Beagle Mix   \n",
       "1         Dog   Spayed Female         8 years  English Springer Spaniel   \n",
       "2         Dog     Intact Male       11 months               Basenji Mix   \n",
       "3         Cat   Intact Female         4 weeks    Domestic Shorthair Mix   \n",
       "4         Cat   Neutered Male         2 years        Domestic Shorthair   \n",
       "\n",
       "          Color  \n",
       "0      Tricolor  \n",
       "1   White/Liver  \n",
       "2   Sable/White  \n",
       "3        Calico  \n",
       "4  Orange Tabby  "
      ]
     },
     "metadata": {},
     "output_type": "display_data"
    },
    {
     "name": "stdout",
     "output_type": "stream",
     "text": [
      "Out\n"
     ]
    },
    {
     "data": {
      "text/html": [
       "<div>\n",
       "<style scoped>\n",
       "    .dataframe tbody tr th:only-of-type {\n",
       "        vertical-align: middle;\n",
       "    }\n",
       "\n",
       "    .dataframe tbody tr th {\n",
       "        vertical-align: top;\n",
       "    }\n",
       "\n",
       "    .dataframe thead th {\n",
       "        text-align: right;\n",
       "    }\n",
       "</style>\n",
       "<table border=\"1\" class=\"dataframe\">\n",
       "  <thead>\n",
       "    <tr style=\"text-align: right;\">\n",
       "      <th></th>\n",
       "      <th>Animal ID</th>\n",
       "      <th>Name</th>\n",
       "      <th>DateTime</th>\n",
       "      <th>MonthYear</th>\n",
       "      <th>Date of Birth</th>\n",
       "      <th>Outcome Type</th>\n",
       "      <th>Outcome Subtype</th>\n",
       "      <th>Animal Type</th>\n",
       "      <th>Sex upon Outcome</th>\n",
       "      <th>Age upon Outcome</th>\n",
       "      <th>Breed</th>\n",
       "      <th>Color</th>\n",
       "    </tr>\n",
       "  </thead>\n",
       "  <tbody>\n",
       "    <tr>\n",
       "      <th>0</th>\n",
       "      <td>A882831</td>\n",
       "      <td>*Hamilton</td>\n",
       "      <td>07/01/2023 06:12:00 PM</td>\n",
       "      <td>Jul 2023</td>\n",
       "      <td>03/25/2023</td>\n",
       "      <td>Adoption</td>\n",
       "      <td>NaN</td>\n",
       "      <td>Cat</td>\n",
       "      <td>Neutered Male</td>\n",
       "      <td>3 months</td>\n",
       "      <td>Domestic Shorthair Mix</td>\n",
       "      <td>Black/White</td>\n",
       "    </tr>\n",
       "    <tr>\n",
       "      <th>1</th>\n",
       "      <td>A794011</td>\n",
       "      <td>Chunk</td>\n",
       "      <td>05/08/2019 06:20:00 PM</td>\n",
       "      <td>May 2019</td>\n",
       "      <td>05/02/2017</td>\n",
       "      <td>Rto-Adopt</td>\n",
       "      <td>NaN</td>\n",
       "      <td>Cat</td>\n",
       "      <td>Neutered Male</td>\n",
       "      <td>2 years</td>\n",
       "      <td>Domestic Shorthair Mix</td>\n",
       "      <td>Brown Tabby/White</td>\n",
       "    </tr>\n",
       "    <tr>\n",
       "      <th>2</th>\n",
       "      <td>A776359</td>\n",
       "      <td>Gizmo</td>\n",
       "      <td>07/18/2018 04:02:00 PM</td>\n",
       "      <td>Jul 2018</td>\n",
       "      <td>07/12/2017</td>\n",
       "      <td>Adoption</td>\n",
       "      <td>NaN</td>\n",
       "      <td>Dog</td>\n",
       "      <td>Neutered Male</td>\n",
       "      <td>1 year</td>\n",
       "      <td>Chihuahua Shorthair Mix</td>\n",
       "      <td>White/Brown</td>\n",
       "    </tr>\n",
       "    <tr>\n",
       "      <th>3</th>\n",
       "      <td>A821648</td>\n",
       "      <td>NaN</td>\n",
       "      <td>08/16/2020 11:38:00 AM</td>\n",
       "      <td>Aug 2020</td>\n",
       "      <td>08/16/2019</td>\n",
       "      <td>Euthanasia</td>\n",
       "      <td>NaN</td>\n",
       "      <td>Other</td>\n",
       "      <td>Unknown</td>\n",
       "      <td>1 year</td>\n",
       "      <td>Raccoon</td>\n",
       "      <td>Gray</td>\n",
       "    </tr>\n",
       "    <tr>\n",
       "      <th>4</th>\n",
       "      <td>A720371</td>\n",
       "      <td>Moose</td>\n",
       "      <td>02/13/2016 05:59:00 PM</td>\n",
       "      <td>Feb 2016</td>\n",
       "      <td>10/08/2015</td>\n",
       "      <td>Adoption</td>\n",
       "      <td>NaN</td>\n",
       "      <td>Dog</td>\n",
       "      <td>Neutered Male</td>\n",
       "      <td>4 months</td>\n",
       "      <td>Anatol Shepherd/Labrador Retriever</td>\n",
       "      <td>Buff</td>\n",
       "    </tr>\n",
       "  </tbody>\n",
       "</table>\n",
       "</div>"
      ],
      "text/plain": [
       "  Animal ID       Name                DateTime MonthYear Date of Birth  \\\n",
       "0   A882831  *Hamilton  07/01/2023 06:12:00 PM  Jul 2023    03/25/2023   \n",
       "1   A794011      Chunk  05/08/2019 06:20:00 PM  May 2019    05/02/2017   \n",
       "2   A776359      Gizmo  07/18/2018 04:02:00 PM  Jul 2018    07/12/2017   \n",
       "3   A821648        NaN  08/16/2020 11:38:00 AM  Aug 2020    08/16/2019   \n",
       "4   A720371      Moose  02/13/2016 05:59:00 PM  Feb 2016    10/08/2015   \n",
       "\n",
       "  Outcome Type Outcome Subtype Animal Type Sex upon Outcome Age upon Outcome  \\\n",
       "0     Adoption             NaN         Cat    Neutered Male         3 months   \n",
       "1    Rto-Adopt             NaN         Cat    Neutered Male          2 years   \n",
       "2     Adoption             NaN         Dog    Neutered Male           1 year   \n",
       "3   Euthanasia             NaN       Other          Unknown           1 year   \n",
       "4     Adoption             NaN         Dog    Neutered Male         4 months   \n",
       "\n",
       "                                Breed              Color  \n",
       "0              Domestic Shorthair Mix        Black/White  \n",
       "1              Domestic Shorthair Mix  Brown Tabby/White  \n",
       "2             Chihuahua Shorthair Mix        White/Brown  \n",
       "3                             Raccoon               Gray  \n",
       "4  Anatol Shepherd/Labrador Retriever               Buff  "
      ]
     },
     "metadata": {},
     "output_type": "display_data"
    }
   ],
   "source": [
    "display(intakes.info())\n",
    "outcomes.info()\n",
    "print(\"Intakes:\")\n",
    "display(intakes.head())\n",
    "print(\"Out\")\n",
    "display(outcomes.head())"
   ]
  },
  {
   "cell_type": "markdown",
   "metadata": {},
   "source": [
    "V obou datasetech máme 12 příznáků, které jsou typu object (bude potřeba opravit).\n",
    "\n",
    "**Intakes**\n",
    "\n",
    "- Animal ID\n",
    "  - unikátní identifikátor zvířete\n",
    "- Name\n",
    "  - jméno zvířete\n",
    "- DataTime\n",
    "  - čas a datum příchodu zvířete do útulku\n",
    "- MonthYear\n",
    "  - rok a měsíc příchodu zvířete do útulku\n",
    "- Found Location\n",
    "  - Místo nalezení\n",
    "- Intake Type\n",
    "  - typ přijetí např. darem, zatoulané atd.\n",
    "- Intake Condition\n",
    "  - Stav zvířete při přijetí\n",
    "- Animal Type\n",
    "  - typ zvířete např. pes, kočka, dobytek atd.\n",
    "- Sex upon Intake\n",
    "  - pohlaví zvířete, a jestli probhěla kastrace\n",
    "- Age upon Intake\n",
    "  - věk při přijetí\n",
    "- Breed\n",
    "- Color\n",
    "\n",
    "**Outcomes**\n",
    "- Animal ID\n",
    "  - unikátní identifikátor zvířete\n",
    "- Name\n",
    "  - jméno zvířete\n",
    "- DataTime\n",
    "  - čas a datum příchodu zvířete do útulku\n",
    "- MonthYear\n",
    "  - rok a měsíc příchodu zvířete do útulku\n",
    "- Date of Birth\n",
    "- Outcome Type\n",
    "  - typ odchodu např. adopce, návrat majiteli, přesun jinam, eutanázie atd.\n",
    "- Outcome Subtype\n",
    "\n",
    "- Animal Type\n",
    "  - typ zvířete např. pes, kočka, dobytek atd.\n",
    "- Sex upon Outcome\n",
    "  - pohlaví zvířete, a jestli probhěla kastrace\n",
    "- Breed\n",
    "- Color"
   ]
  },
  {
   "cell_type": "markdown",
   "metadata": {},
   "source": [
    "### Intakes\n",
    "Nejprve se zaměřím na tabulku `intakes`.\n",
    "Jako první zkusím zjistit jak jsou reprezentovány nedefinované hodnoty v tabulce.\n",
    "Začnu kategorickými daty\n",
    "\n",
    "- Intake Type\n",
    "- Intake Condition\n",
    "- Animal Type\n",
    "- Sex upon Intake\n",
    "- Breed\n",
    "- Color"
   ]
  },
  {
   "cell_type": "code",
   "execution_count": 519,
   "metadata": {},
   "outputs": [],
   "source": [
    "def printUniqueValInCols(categorical_features, df):\n",
    "    print(\"Counts of unique values for each feature:\")\n",
    "    for feature in categorical_features:\n",
    "        print(f\"{feature}: {df[feature].nunique(dropna=False)}\")\n",
    "        print(f\"{df[feature].unique()}\\n\")"
   ]
  },
  {
   "cell_type": "code",
   "execution_count": 520,
   "metadata": {},
   "outputs": [
    {
     "name": "stdout",
     "output_type": "stream",
     "text": [
      "Counts of unique values for each feature:\n",
      "Intake Type: 6\n",
      "['Stray' 'Public Assist' 'Owner Surrender' 'Abandoned' 'Wildlife'\n",
      " 'Euthanasia Request']\n",
      "\n",
      "Intake Condition: 20\n",
      "['Normal' 'Sick' 'Injured' 'Pregnant' 'Neonatal' 'Nursing' 'Aged'\n",
      " 'Unknown' 'Med Attn' 'Medical' 'Other' 'Feral' 'Behavior' 'Med Urgent'\n",
      " 'Parvo' 'Space' 'Agonal' 'Neurologic' 'Panleuk' 'Congenital']\n",
      "\n",
      "Animal Type: 5\n",
      "['Dog' 'Cat' 'Other' 'Bird' 'Livestock']\n",
      "\n",
      "Sex upon Intake: 6\n",
      "['Neutered Male' 'Spayed Female' 'Intact Male' 'Intact Female' 'Unknown'\n",
      " nan]\n",
      "\n",
      "Breed: 2966\n",
      "['Beagle Mix' 'English Springer Spaniel' 'Basenji Mix' ... 'Tosa'\n",
      " 'Toy Poodle/Standard Schnauzer' 'Brittany/Australian Shepherd']\n",
      "\n",
      "Color: 650\n",
      "['Tricolor' 'White/Liver' 'Sable/White' 'Calico' 'Orange Tabby' 'Tan/Gray'\n",
      " 'Chocolate' 'Black' 'Brown Tabby' 'Black/White' 'Cream Tabby' 'White/Tan'\n",
      " 'Brown/White' 'Brown Tabby/White' 'Brown Brindle/White' 'Torbie'\n",
      " 'Tan/White' 'Tortie' 'Blue/White' 'White/Brown' 'Brown/Cream' 'Brown'\n",
      " 'White/Black' 'Blue' 'White' 'Black/Red' 'Gray/White' 'Tan' 'Gray Tabby'\n",
      " 'Chocolate/Brown' 'White/Gray' 'Black/Gray' 'Brown Merle' 'White/Blue'\n",
      " 'Blue Tabby' 'Sable/Tan' 'Brown/Black' 'Black/Tricolor'\n",
      " 'Black/Brown Brindle' 'Gray/Black' 'Yellow' 'White/Cream'\n",
      " 'Cream Tabby/White' 'Red/White' 'Black/Tan' 'Black/Brown' 'Brown/Yellow'\n",
      " 'Gray' 'Orange Tabby/White' 'Brown Tiger/White' 'White/Orange Tabby'\n",
      " 'Lynx Point' 'Brown Tabby/Black' 'Chocolate/White' 'Tan/Black' 'Red'\n",
      " 'Chocolate/Tan' 'White/Brown Tabby' 'Buff/White' 'Cream' 'Tricolor/Brown'\n",
      " 'Gray/Yellow' 'Fawn/White' 'Blue Point' 'Red Tick' 'Blue Tabby/White'\n",
      " 'Brown/Brown' 'Blue Merle' 'Brown Brindle' 'White/Brown Brindle'\n",
      " 'Blue Tiger/White' 'Black Brindle' 'Cream/Black' 'Torbie/Brown Tabby'\n",
      " 'Calico/White' 'Blue Cream/White' 'Black Brindle/White' 'Black/Black'\n",
      " 'Red/Black' 'Black Smoke' 'Buff' 'White/Red' 'Lynx Point/White'\n",
      " 'Gold/White' 'Black/Buff' 'Tan/Brown' 'Brown/Tan' 'Black/Blue' 'Silver'\n",
      " 'Black Tabby' 'Sable' 'Apricot' 'Cream/Brown' 'Silver Tabby'\n",
      " 'Tricolor/White' 'Fawn' 'Seal Point/White' 'Black Smoke/White'\n",
      " 'Gray Tabby/Black' 'Blue Merle/White' 'Blue/Tan' 'Cream/White'\n",
      " 'Black/Blue Tick' 'Tan/Blue Merle' 'Seal Point' 'White/Buff'\n",
      " 'White/Brown Merle' 'Brown/Silver' 'Gray/Tan' 'Blue Cream'\n",
      " 'White/Tricolor' 'Brown Tiger' 'White/Orange' 'Lynx Point/Gray'\n",
      " 'White/Yellow' 'Red Merle' 'Gold' 'Cream/Tan' 'Torbie/White'\n",
      " 'White/Chocolate' 'Tan/Tricolor' 'Brown Merle/Chocolate' 'Tortie/White'\n",
      " 'Blue Merle/Tan' 'Lilac Point' 'Yellow/White' 'Flame Point'\n",
      " 'Blue Tick/Tricolor' 'Brown Merle/White' 'Gray/Pink' 'Blue Merle/Cream'\n",
      " 'Gray/Orange' 'Blue Tick' 'Green' 'Brown Tabby/Orange'\n",
      " 'Calico/Brown Tabby' 'Brown/Tricolor' 'Lynx Point/Tan' 'Orange'\n",
      " 'Cream Tabby/Orange Tabby' 'Orange/White' 'Blue Merle/Red' 'Buff/Black'\n",
      " 'Black/Black Smoke' 'Red/Brown' 'Chocolate Point' 'Brown Brindle/Black'\n",
      " 'White/Blue Tabby' 'Black/Yellow' 'Blue Point/White' 'Tortie/Blue Cream'\n",
      " 'Silver/Cream' 'Blue Tick/Black' 'Red Merle/White' 'Sable/Brown'\n",
      " 'Gray Tabby/White' 'White/Cream Tabby' 'Tricolor/Black' 'Sable/Black'\n",
      " 'Tortie Point' 'Gray/Cream' 'Brown/Gray' 'Torbie/Calico'\n",
      " 'White/Blue Merle' 'Gray/Brown' 'Gray/Gray' 'Gold/Cream'\n",
      " 'Lynx Point/Blue Point' 'Red Merle/Black' 'Yellow/Black'\n",
      " 'White/Black Brindle' 'Fawn/Black' 'Red Tick/White' 'Gold/Brown'\n",
      " 'Red Tick/Orange' 'Tan/Buff' 'Red Tick/Tricolor' 'Black Tabby/White'\n",
      " 'Silver/Brown' 'Silver/Tan' 'White/White' 'Silver Tabby/White'\n",
      " 'Blue/Brown' 'Agouti/White' 'Gold/Gold' 'Chocolate/Tricolor'\n",
      " 'Calico/Black' 'Tan/Silver' 'Chocolate/Cream' 'Agouti/Gray'\n",
      " 'Lynx Point/Tortie Point' 'Liver/White' 'Black/Cream' 'Tan/Cream'\n",
      " 'Agouti/Brown Tabby' 'Silver/Black' 'Red/Tan' 'Brown Brindle/Brown'\n",
      " 'Tan/Tan' 'Gold/Black' 'Orange Tabby/Cream' 'Blue/Black'\n",
      " 'White/Black Tabby' 'Black/Chocolate' 'Tricolor/Brown Merle' 'Red/Gray'\n",
      " 'White/Black Tiger' 'Blue/Gray' 'Brown/Red' 'Blue/Tricolor'\n",
      " 'Brown Brindle/Blue' 'Chocolate/Brown Brindle' 'Yellow Brindle/White'\n",
      " 'Blue Tick/Tan' 'Brown/Fawn' 'Chocolate Point/White' 'Fawn/Tan'\n",
      " 'Black Brindle/Brown' 'Tricolor/Brown Brindle' 'Red Tick/Brown Brindle'\n",
      " 'White/Fawn' 'Black/Silver' 'Fawn/Tricolor' 'Brown/Red Merle'\n",
      " 'Red/Red Tick' 'Blue Tick/Brown' 'Yellow Brindle' 'Sable/Cream'\n",
      " 'Gray/Silver' 'Red Tick/Tan' 'Black/Brown Tabby' 'Brown/Pink' 'Red/Cream'\n",
      " 'Silver Lynx Point/Gray' 'Apricot/Tricolor' 'Tricolor/Red Tick'\n",
      " 'Cream/Silver' 'Silver Lynx Point' 'White/Lilac Point' 'Tan/Fawn'\n",
      " 'Brown Tabby/Gray' 'White/Silver' 'Brown/Chocolate' 'Black/Fawn'\n",
      " 'Gray/Red' 'Green/Yellow' 'Brown/Brown Merle' 'White/Silver Tabby'\n",
      " 'Gray/Brown Brindle' 'Red/Green' 'Red/Silver' 'Blue Tabby/Cream'\n",
      " 'Sable/Gray' 'Gray/Tortie' 'Calico Point' 'Blue Merle/Black'\n",
      " 'Buff/Red Tick' 'White/Gray Tabby' 'Black Brindle/Black'\n",
      " 'Brown Tabby/Brown' 'Tortie Point/Lynx Point' 'Blue Tabby/Buff'\n",
      " 'Blue Smoke' 'Blue/Cream' 'Silver/Orange' 'Tan/Brown Brindle'\n",
      " 'Brown Tiger/Cream' 'Brown Brindle/Tan' 'White/Red Tick'\n",
      " 'Blue Tick/Red Tick' 'Buff/Yellow' 'Calico Point/White'\n",
      " 'Chocolate/Red Tick' 'Buff/Tan' 'Yellow Brindle/Brown' 'White/Tortie'\n",
      " 'Pink' 'Gold/Gray' 'White/Calico' 'Green/Red' 'Yellow/Green'\n",
      " 'Brown/Brown Tabby' 'Red/Yellow' 'Black/Blue Merle' 'Fawn/Brown Brindle'\n",
      " 'Silver/Red' 'Apricot/White' 'Yellow/Blue' 'Tricolor/Fawn' 'Silver/Gray'\n",
      " 'White/Chocolate Point' 'Yellow/Tan' 'Tan/Gold' 'Brown/Brown Brindle'\n",
      " 'Black Tabby/Brown' 'Brown Merle/Brown Tabby' 'Chocolate/Liver Tick'\n",
      " 'Black/Black Brindle' 'Tortie/Black' 'Blue Tick/White' 'Orange/Brown'\n",
      " 'Blue Tabby/Black' 'Gold/Yellow' 'Blue Merle/Brown' 'Brown Tabby/Calico'\n",
      " 'Green/Brown' 'White/Yellow Brindle' 'Blue Smoke/Tan' 'Silver/White'\n",
      " 'Gold/Tan' 'White/Flame Point' 'Sable/Red Merle' 'Cream/Red'\n",
      " 'Chocolate/Black' 'Orange/Orange Tabby' 'White/Red Merle'\n",
      " 'Brown Brindle/Brown Brindle' 'White/Seal Point' 'Tricolor/Blue Tick'\n",
      " 'Buff/Brown' 'Black/Orange' 'Red Merle/Red Tick' 'White/Blue Tick'\n",
      " 'Brown Brindle/Blue Tick' 'Blue Tiger' 'Tricolor/Silver' 'Tricolor/Tan'\n",
      " 'Blue/Tortie' 'White/Green' 'Tricolor/Blue Merle' 'Orange/Tricolor'\n",
      " 'Lilac Point/White' 'Liver Tick' 'Agouti' 'White/Tortie Point'\n",
      " 'Torbie/Gray' 'Blue Merle/Tricolor' 'Torbie/Blue Cream' 'Black/Gold'\n",
      " 'Blue Tabby/Tortie' 'Gray/Blue Merle' 'Tortie/Gray' 'Blue Tabby/Brown'\n",
      " 'Cream/Brown Merle' 'Brown Tabby/Cream' 'Brown/Green' 'Blue Tabby/Orange'\n",
      " 'Blue Merle/Blue Merle' 'Red Merle/Tricolor' 'Tan/Blue' 'Tortie/Blue'\n",
      " 'Red/Buff' 'Tortie/Orange' 'Tan/Red' 'Tan/Red Tick' 'Yellow/Orange Tabby'\n",
      " 'Black Smoke/Gray' 'Gray Tabby/Brown' 'Sable/Buff' 'Green/Black'\n",
      " 'Cream/Gray' 'Liver/Chocolate' 'White/Apricot' 'Red/Orange Tabby'\n",
      " 'Sable/Red' 'Black/Gray Tabby' 'Black Smoke/Brown Tabby'\n",
      " 'Cream/Seal Point' 'Brown Tabby/Gray Tabby' 'Red Tick/Brown' 'Gray/Blue'\n",
      " 'White/Brown Tiger' 'Tortie/Tortie' 'Flame Point/White' 'Brown/Buff'\n",
      " 'Buff/Blue Merle' 'Brown Tabby/Brown Tabby' 'White/Black Smoke'\n",
      " 'White/Lynx Point' 'Blue/Brown Brindle' 'Apricot/Brown' 'Blue/Blue'\n",
      " 'Brown/Orange' 'Black/Green' 'Tricolor/Blue' 'Blue/Silver'\n",
      " 'Brown Brindle/Fawn' 'Fawn/Gray' 'Brown Brindle/Red Tick' 'Tricolor/Gray'\n",
      " 'Calico/Gray' 'Brown/Black Tabby' 'Torbie/Brown' 'Blue/Yellow Brindle'\n",
      " 'Orange/Tan' 'Silver/Gray Tabby' 'Liver' 'Brown/Brown Tiger'\n",
      " 'Cream/Yellow' 'Buff/Red' 'Chocolate/Gray' 'Gray/Gray Tabby'\n",
      " 'Black/Yellow Brindle' 'Tortie Point/Seal Point' 'Blue Tabby/Blue Cream'\n",
      " 'Black/Seal Point' 'Fawn/Blue' 'Torbie/Orange' 'Yellow/Gray'\n",
      " 'Silver/Silver Tabby' 'Liver/Liver Tick' 'Tortie/Black Smoke'\n",
      " 'Blue Cream/Tortie' 'Gray/Gold' 'Brown Tabby/Silver' 'Yellow/Orange'\n",
      " 'Brown/Red Tick' 'Black Tabby/Orange' 'Black Smoke/Black Tiger'\n",
      " 'Fawn/Chocolate' 'Black Tiger/White' 'Chocolate/Gold' 'Calico/Tricolor'\n",
      " 'Liver/Blue' 'Red/Tricolor' 'Chocolate/Fawn' 'Gray/Green' 'Red/Red Merle'\n",
      " 'Yellow/Cream' 'Tricolor/Red' 'Blue/Orange' 'Chocolate/Red'\n",
      " 'Tortie Point/White' 'Orange/Black' 'Calico/Brown' 'Brown/Blue Merle'\n",
      " 'Brown/Blue' 'Black Tabby/Black' 'Brown Merle/Black' 'Brown Tabby/Tortie'\n",
      " 'Yellow Brindle/Blue' 'Green/Orange' 'Buff/Gray' 'Cream/Blue Point'\n",
      " 'Cream/Cream' 'Yellow Brindle/Black' 'Calico/Calico' 'Gray/Tricolor'\n",
      " 'Cream Tiger' 'White/Gold' 'Fawn/Brown' 'Tan/Red Merle' 'Brown Merle/Tan'\n",
      " 'White/Liver Tick' 'Cream/Green' 'Blue/Green' 'Blue Cream/Blue Tiger'\n",
      " 'Black/Pink' 'Blue Smoke/White' 'Cream Tiger/Brown Tabby' 'Red Tick/Red'\n",
      " 'Liver/Tan' 'Chocolate/Chocolate' 'Tortie/Brown' 'Gray Tabby/Orange'\n",
      " 'Red/Gold' 'Blue Tabby/Tan' 'Black Smoke/Black Tabby' 'Tortie/Calico'\n",
      " 'Orange Tabby/Brown' 'Blue Merle/Red Merle' 'Lilac Point/Cream'\n",
      " 'Tan/Apricot' 'Brown Merle/Brown' 'Blue Cream/Blue Tabby'\n",
      " 'Blue Tabby/Brown Tabby' 'Buff/Cream' 'Black/Brown Merle' 'White/Pink'\n",
      " 'Black Brindle/Brown Brindle' 'Silver Tabby/Black' 'Torbie/Blue Tabby'\n",
      " 'Blue/Black Brindle' 'Tan/Yellow' 'Black/Black Tabby'\n",
      " 'Brown Tabby/Black Tabby' 'Green/Blue' 'Brown Brindle/Tricolor'\n",
      " 'Tricolor/Orange' 'Black Brindle/Yellow' 'Green/White'\n",
      " 'Brown Brindle/Black Brindle' 'Torbie/Blue' 'Red Tick/Blue'\n",
      " 'White/Blue Cream' 'Black Smoke/Brown' 'Tan/Brown Merle'\n",
      " 'Liver Tick/Brown' 'Brown/Seal Point' 'Orange Tiger' 'Brown Brindle/Gray'\n",
      " 'Red Merle/Tan' 'Orange Tabby/Orange' 'Cream/Red Tick' 'Blue Tick/Red'\n",
      " 'Blue/Calico' 'Chocolate/Brown Merle' 'White/Gray Tiger' 'Torbie/Black'\n",
      " 'Brown Merle/Gray' 'Black Tabby/Gray' 'Calico/Gray Tabby'\n",
      " 'Lynx Point/Blue' 'Orange/Gray' 'Red Tick/Black' 'Gray/Buff'\n",
      " 'Lilac Point/Gray' 'Liver Tick/White' 'White/Ruddy' 'Seal Point/Brown'\n",
      " 'Brown Tabby/Blue' 'Blue Tick/Brown Brindle' 'Green/Gray' 'Yellow/Red'\n",
      " 'Seal Point/Cream' 'Flame Point/Cream' 'Cream/Tricolor'\n",
      " 'Black Brindle/Blue Tick' 'Tan/Blue Tick' 'Cream Tabby/Cream Tabby'\n",
      " 'Tricolor/Chocolate' 'Seal Point/Buff' 'Black Tiger'\n",
      " 'Chocolate/Seal Point' 'Calico/Orange Tabby' 'Fawn/Yellow'\n",
      " 'Gray Tabby/Gray' 'White/Blue Tiger' 'Green/Gold'\n",
      " 'Gray Tabby/Brown Tabby' 'Brown Tabby/Red' 'Black/Tortie'\n",
      " 'Calico/Blue Cream' 'Unknown' 'Torbie/Silver Tabby' 'Tan/Yellow Brindle'\n",
      " 'Brown Brindle/Brown Merle' 'Orange Tabby/Black' 'Blue/Yellow'\n",
      " 'Red Tick/Blue Tick' 'Yellow/Brown' 'Chocolate/Brown Tabby' 'Red/Red'\n",
      " 'Orange/Blue' 'Seal Point/Gray' 'Liver/Buff' 'Gold/Silver'\n",
      " 'Tricolor/Calico' 'Blue/Gold' 'Brown Tabby/Agouti' 'Blue Tiger/Black'\n",
      " 'Red/Brown Brindle' 'Brown/Black Smoke' 'Red Merle/Blue Merle'\n",
      " 'Brown/Black Brindle' 'Black Brindle/Tan' 'Brown Tiger/Black'\n",
      " 'Cream/Gold' 'Calico/Orange' 'Red Tick/Brown Merle' 'Silver/Chocolate'\n",
      " 'Orange Tabby/Orange Tabby' 'Orange Tabby/Tan' 'Brown Tabby/Lynx Point'\n",
      " 'Green/Tricolor' 'Cream/Blue' 'Brown Tabby/Tan' 'Blue/Blue Merle'\n",
      " 'Green/Silver' 'Cream/Brown Tabby' 'Brown Tabby/Black Brindle'\n",
      " 'Red Merle/Brown Merle' 'Blue Smoke/Brown' 'Blue Merle/Gray'\n",
      " 'Calico/Blue Tabby' 'Black/Silver Tabby' 'Tan/Chocolate Point'\n",
      " 'White/Agouti' 'Cream/Orange' 'Gray Tabby/Tan' 'Blue Smoke/Gray'\n",
      " 'Tortie Point/Cream' 'Silver/Blue' 'Brown Tabby/Orange Tabby' 'Tan/Green'\n",
      " 'Black Smoke/Chocolate' 'Gold/Buff' 'Black Brindle/Blue'\n",
      " 'Orange Tabby/Apricot' 'Black Tabby/Black Smoke' 'Blue Cream/Buff'\n",
      " 'Lynx Point/Gray Tabby' 'Blue Point/Cream' 'Brown Brindle/Blue Cream'\n",
      " 'Ruddy/Cream' 'Gray/Fawn' 'Brown Tiger/Brown' 'Cream Tabby/Orange'\n",
      " 'Seal Point/Silver' 'Lynx Point/Cream' 'Brown Merle/Blue Merle'\n",
      " 'Red Merle/Brown' 'Brown/Liver' 'Orange Tabby/Tortie Point'\n",
      " 'White/Calico Point' 'Chocolate Point/Cream' 'Lilac Point/Black'\n",
      " 'Yellow/Yellow' 'Brown Brindle/Liver Tick' 'Calico Point/Lynx Point'\n",
      " 'Chocolate/Yellow' 'Chocolate/Blue Tick' 'Blue Point/Lynx Point'\n",
      " 'Blue Tiger/Tan' 'Blue/Blue Tick' 'Lynx Point/Brown Tabby'\n",
      " 'Tricolor/Cream' 'Black Smoke/Black' 'Tortie/Blue Merle'\n",
      " 'Silver Lynx Point/White' 'Red/Blue' 'Tan/Cream Tabby'\n",
      " 'Brown Merle/Brown Merle' 'Fawn/Cream' 'Brown Brindle/Chocolate'\n",
      " 'Calico Point/Gray' 'Black Smoke/Blue Tick' 'Blue Merle/Brown Brindle'\n",
      " 'Blue/Fawn' 'Brown/Gold' 'Tortie/Blue Tabby' 'Agouti/Cream'\n",
      " 'Tortie Point/Blue' 'Tortie/Gold' 'Black Tabby/Gray Tabby'\n",
      " 'Tricolor/Tricolor' 'Red Merle/Red Merle' 'Blue Merle/Brown Merle'\n",
      " 'Brown Tabby/Gold' 'Ruddy']\n",
      "\n"
     ]
    }
   ],
   "source": [
    "categorical_features = [\n",
    "    \"Intake Type\",\n",
    "    \"Intake Condition\",\n",
    "    \"Animal Type\",\n",
    "    \"Sex upon Intake\",\n",
    "    \"Breed\",\n",
    "    \"Color\",\n",
    "]\n",
    "printUniqueValInCols(categorical_features, intakes)"
   ]
  },
  {
   "cell_type": "markdown",
   "metadata": {},
   "source": [
    "V tabulce intakes jsou chybějící hodnoty kategorických příznaků označeny jako Unknown.\n",
    "\n",
    "V příznaku Sex upon Intake se vyskytuje jak hodnota Unknown tak i hodnota NaN.\n",
    "\n",
    "Abychom zachovali konzistenci v tabulce, převedu všechny hodnoty Unknown v Sex upon Intake na hodnotu NaN => chybějící hodnota. \n",
    "\n",
    "Převedu stejným způsobem i v ostatních kategorických příznacích"
   ]
  },
  {
   "cell_type": "code",
   "execution_count": 521,
   "metadata": {},
   "outputs": [
    {
     "name": "stdout",
     "output_type": "stream",
     "text": [
      "Intake Type: 0\n",
      "Intake Condition: 25\n",
      "Animal Type: 0\n",
      "Sex upon Intake: 13036\n",
      "Breed: 3\n",
      "Color: 1\n"
     ]
    }
   ],
   "source": [
    "for feature in categorical_features:\n",
    "    print(f\"{feature}: {(intakes[feature] == 'Unknown').sum()}\")"
   ]
  },
  {
   "cell_type": "code",
   "execution_count": 522,
   "metadata": {},
   "outputs": [],
   "source": [
    "def replaceUnknown(columns, df):\n",
    "    for col in columns:\n",
    "        df[col].replace(\"Unknown\", np.NAN, inplace=True)"
   ]
  },
  {
   "cell_type": "code",
   "execution_count": 523,
   "metadata": {},
   "outputs": [
    {
     "name": "stdout",
     "output_type": "stream",
     "text": [
      "Intake Type: 0\n",
      "Intake Condition: 0\n",
      "Animal Type: 0\n",
      "Sex upon Intake: 0\n",
      "Breed: 0\n",
      "Color: 0\n"
     ]
    }
   ],
   "source": [
    "intakes_cleaned = (\n",
    "    intakes.copy()\n",
    ")  # poridim si kopii, abych mel vzdycky k dispozici, orginal/zdroj\n",
    "\n",
    "replaceUnknown(categorical_features, intakes_cleaned)\n",
    "\n",
    "for feature in categorical_features:\n",
    "    print(f\"{feature}: {(intakes_cleaned[feature] == 'Unknown').sum()}\")"
   ]
  },
  {
   "cell_type": "code",
   "execution_count": 524,
   "metadata": {},
   "outputs": [
    {
     "name": "stdout",
     "output_type": "stream",
     "text": [
      "<class 'pandas.core.frame.DataFrame'>\n",
      "RangeIndex: 167556 entries, 0 to 167555\n",
      "Data columns (total 12 columns):\n",
      " #   Column            Non-Null Count   Dtype \n",
      "---  ------            --------------   ----- \n",
      " 0   Animal ID         167556 non-null  object\n",
      " 1   Name              119338 non-null  object\n",
      " 2   DateTime          167556 non-null  object\n",
      " 3   MonthYear         167556 non-null  object\n",
      " 4   Found Location    167556 non-null  object\n",
      " 5   Intake Type       167556 non-null  object\n",
      " 6   Intake Condition  167531 non-null  object\n",
      " 7   Animal Type       167556 non-null  object\n",
      " 8   Sex upon Intake   154518 non-null  object\n",
      " 9   Age upon Intake   167555 non-null  object\n",
      " 10  Breed             167553 non-null  object\n",
      " 11  Color             167555 non-null  object\n",
      "dtypes: object(12)\n",
      "memory usage: 15.3+ MB\n"
     ]
    }
   ],
   "source": [
    "intakes_cleaned.info()"
   ]
  },
  {
   "cell_type": "code",
   "execution_count": 525,
   "metadata": {},
   "outputs": [
    {
     "name": "stdout",
     "output_type": "stream",
     "text": [
      "<class 'pandas.core.frame.DataFrame'>\n",
      "RangeIndex: 167556 entries, 0 to 167555\n",
      "Data columns (total 12 columns):\n",
      " #   Column            Non-Null Count   Dtype   \n",
      "---  ------            --------------   -----   \n",
      " 0   Animal ID         167556 non-null  object  \n",
      " 1   Name              119338 non-null  object  \n",
      " 2   DateTime          167556 non-null  object  \n",
      " 3   MonthYear         167556 non-null  object  \n",
      " 4   Found Location    167556 non-null  object  \n",
      " 5   Intake Type       167556 non-null  category\n",
      " 6   Intake Condition  167531 non-null  category\n",
      " 7   Animal Type       167556 non-null  category\n",
      " 8   Sex upon Intake   154518 non-null  category\n",
      " 9   Age upon Intake   167555 non-null  object  \n",
      " 10  Breed             167553 non-null  category\n",
      " 11  Color             167555 non-null  category\n",
      "dtypes: category(6), object(6)\n",
      "memory usage: 9.1+ MB\n"
     ]
    }
   ],
   "source": [
    "intakes_cleaned[categorical_features] = intakes_cleaned[categorical_features].astype(\n",
    "    \"category\"\n",
    ")\n",
    "intakes_cleaned.info()"
   ]
  },
  {
   "cell_type": "markdown",
   "metadata": {},
   "source": [
    "**Ošetření číselných a datových příznaků**"
   ]
  },
  {
   "cell_type": "code",
   "execution_count": 526,
   "metadata": {},
   "outputs": [
    {
     "name": "stdout",
     "output_type": "stream",
     "text": [
      "['2 years' '8 years' '11 months' '4 weeks' '4 years' '6 years' '6 months'\n",
      " '5 months' '1 month' '14 years' '2 weeks' '1 week' '2 months' '18 years'\n",
      " '9 years' '4 months' '1 day' '1 year' '3 years' '4 days' '5 years'\n",
      " '15 years' '8 months' '6 days' '7 years' '3 months' '3 weeks' '12 years'\n",
      " '9 months' '10 years' '10 months' '7 months' '0 years' '1 weeks' '5 days'\n",
      " '17 years' '2 days' '11 years' '3 days' '13 years' '5 weeks' '16 years'\n",
      " '19 years' '20 years' '-1 years' '-3 years' '22 years' '-4 years'\n",
      " '28 years' nan '23 years' '30 years' '-2 years' '21 years' '25 years'\n",
      " '24 years']\n"
     ]
    }
   ],
   "source": [
    "print(intakes[\"Age upon Intake\"].unique())"
   ]
  },
  {
   "cell_type": "markdown",
   "metadata": {},
   "source": [
    "Z hodnot vidím, že mezi věky se vyskytují i záporná čísla, ty budu pohlížet jako nedefinované tj. chybějící hodnoty."
   ]
  },
  {
   "cell_type": "code",
   "execution_count": 527,
   "metadata": {},
   "outputs": [],
   "source": [
    "def toDays(ageStr):\n",
    "    if pd.isna(ageStr):\n",
    "        return np.NAN\n",
    "    value, unit = ageStr.split()\n",
    "    value = int(value)\n",
    "    if value < 0:\n",
    "        return np.NAN\n",
    "\n",
    "    if \"year\" in unit:\n",
    "        return value * 365\n",
    "    elif \"month\" in unit:\n",
    "        return value * 30\n",
    "    elif \"week\" in unit:\n",
    "        return value * 7\n",
    "    elif \"day\" in unit:\n",
    "        return value\n",
    "    else:\n",
    "        return np.NAN"
   ]
  },
  {
   "cell_type": "code",
   "execution_count": 528,
   "metadata": {},
   "outputs": [
    {
     "name": "stdout",
     "output_type": "stream",
     "text": [
      "0          730.0\n",
      "1         2920.0\n",
      "2          330.0\n",
      "3           28.0\n",
      "4          730.0\n",
      "           ...  \n",
      "167551     730.0\n",
      "167552    1095.0\n",
      "167553     730.0\n",
      "167554    1825.0\n",
      "167555    1095.0\n",
      "Name: Age upon Intake, Length: 167556, dtype: float64\n"
     ]
    }
   ],
   "source": [
    "intakes_cleaned[\"Age upon Intake\"] = intakes_cleaned[\"Age upon Intake\"].apply(toDays)\n",
    "print(intakes_cleaned[\"Age upon Intake\"])"
   ]
  },
  {
   "cell_type": "code",
   "execution_count": 529,
   "metadata": {},
   "outputs": [
    {
     "name": "stdout",
     "output_type": "stream",
     "text": [
      "<class 'pandas.core.frame.DataFrame'>\n",
      "RangeIndex: 167556 entries, 0 to 167555\n",
      "Data columns (total 12 columns):\n",
      " #   Column            Non-Null Count   Dtype   \n",
      "---  ------            --------------   -----   \n",
      " 0   Animal ID         167556 non-null  object  \n",
      " 1   Name              119338 non-null  object  \n",
      " 2   DateTime          167556 non-null  object  \n",
      " 3   MonthYear         167556 non-null  object  \n",
      " 4   Found Location    167556 non-null  object  \n",
      " 5   Intake Type       167556 non-null  category\n",
      " 6   Intake Condition  167531 non-null  category\n",
      " 7   Animal Type       167556 non-null  category\n",
      " 8   Sex upon Intake   154518 non-null  category\n",
      " 9   Age upon Intake   167546 non-null  float64 \n",
      " 10  Breed             167553 non-null  category\n",
      " 11  Color             167555 non-null  category\n",
      "dtypes: category(6), float64(1), object(5)\n",
      "memory usage: 9.1+ MB\n"
     ]
    }
   ],
   "source": [
    "intakes_cleaned.info()"
   ]
  },
  {
   "cell_type": "markdown",
   "metadata": {},
   "source": [
    "**Převedení typu příznaku DateTime na datetime64**"
   ]
  },
  {
   "cell_type": "code",
   "execution_count": 530,
   "metadata": {},
   "outputs": [
    {
     "name": "stdout",
     "output_type": "stream",
     "text": [
      "<class 'pandas.core.frame.DataFrame'>\n",
      "RangeIndex: 167556 entries, 0 to 167555\n",
      "Data columns (total 12 columns):\n",
      " #   Column            Non-Null Count   Dtype         \n",
      "---  ------            --------------   -----         \n",
      " 0   Animal ID         167556 non-null  object        \n",
      " 1   Name              119338 non-null  object        \n",
      " 2   DateTime          167556 non-null  datetime64[ns]\n",
      " 3   MonthYear         167556 non-null  object        \n",
      " 4   Found Location    167556 non-null  object        \n",
      " 5   Intake Type       167556 non-null  category      \n",
      " 6   Intake Condition  167531 non-null  category      \n",
      " 7   Animal Type       167556 non-null  category      \n",
      " 8   Sex upon Intake   154518 non-null  category      \n",
      " 9   Age upon Intake   167546 non-null  float64       \n",
      " 10  Breed             167553 non-null  category      \n",
      " 11  Color             167555 non-null  category      \n",
      "dtypes: category(6), datetime64[ns](1), float64(1), object(4)\n",
      "memory usage: 9.1+ MB\n"
     ]
    }
   ],
   "source": [
    "intakes_cleaned[\"DateTime\"] = pd.to_datetime(intakes[\"DateTime\"])\n",
    "intakes_cleaned.info()"
   ]
  },
  {
   "cell_type": "markdown",
   "metadata": {},
   "source": [
    "**Další úpravy**\n",
    "\n",
    "Smažu sloupec MonthYear, redundantní data. Název měsíce a rok přijmu do útulku je obsažen ve sloupci DateTime. \n",
    "\n",
    "Poté odstraním duplicitní záznamy."
   ]
  },
  {
   "cell_type": "code",
   "execution_count": 531,
   "metadata": {},
   "outputs": [
    {
     "name": "stdout",
     "output_type": "stream",
     "text": [
      "<class 'pandas.core.frame.DataFrame'>\n",
      "RangeIndex: 167556 entries, 0 to 167555\n",
      "Data columns (total 11 columns):\n",
      " #   Column            Non-Null Count   Dtype         \n",
      "---  ------            --------------   -----         \n",
      " 0   Animal ID         167556 non-null  object        \n",
      " 1   Name              119338 non-null  object        \n",
      " 2   DateTime          167556 non-null  datetime64[ns]\n",
      " 3   Found Location    167556 non-null  object        \n",
      " 4   Intake Type       167556 non-null  category      \n",
      " 5   Intake Condition  167531 non-null  category      \n",
      " 6   Animal Type       167556 non-null  category      \n",
      " 7   Sex upon Intake   154518 non-null  category      \n",
      " 8   Age upon Intake   167546 non-null  float64       \n",
      " 9   Breed             167553 non-null  category      \n",
      " 10  Color             167555 non-null  category      \n",
      "dtypes: category(6), datetime64[ns](1), float64(1), object(3)\n",
      "memory usage: 7.8+ MB\n"
     ]
    }
   ],
   "source": [
    "intakes_cleaned = intakes_cleaned.drop(\"MonthYear\", axis=1)\n",
    "intakes_cleaned.info()"
   ]
  },
  {
   "cell_type": "markdown",
   "metadata": {},
   "source": [
    "Před tím než odstraním duplicitní záznamy se zjistit jak jsou rozložené v datasetu. To udělám tak, že si vyfiltruji všechny řádky, které jsou duplcitní a potom je seskupím stejné řádky k sobě. Indexy řádků v každé skupině si uložím do pole. Každý prvek pole obsahuje seznam indexů řádků, které jsou shodné. Protože jich není mnoho, tak si je vypíšu."
   ]
  },
  {
   "cell_type": "code",
   "execution_count": 532,
   "metadata": {},
   "outputs": [],
   "source": [
    "def printDupGroups(df):\n",
    "    duplicate_groups = (\n",
    "        df[df.duplicated(keep=False)]\n",
    "        .groupby(list(df.columns))\n",
    "        .apply(lambda x: x.index.tolist())\n",
    "    )\n",
    "    duplicate_groups_array = duplicate_groups.tolist()\n",
    "    print(f\"number of unique duplicite rows: {len(duplicate_groups_array)}\")\n",
    "    print(\"all groups of duplcite rows:\")\n",
    "    for group in duplicate_groups_array:\n",
    "        print(f\"{group[:]} l: {len(group)}\")"
   ]
  },
  {
   "cell_type": "code",
   "execution_count": 533,
   "metadata": {},
   "outputs": [
    {
     "name": "stdout",
     "output_type": "stream",
     "text": [
      "number of unique duplicite rows: 27\n",
      "all groups of duplcite rows:\n",
      "[18764, 18765] l: 2\n",
      "[78517, 78518] l: 2\n",
      "[85541, 85542] l: 2\n",
      "[8331, 8332] l: 2\n",
      "[10871, 10872] l: 2\n",
      "[62161, 62162] l: 2\n",
      "[91869, 91870] l: 2\n",
      "[74574, 74575] l: 2\n",
      "[32013, 32014] l: 2\n",
      "[138965, 138966] l: 2\n",
      "[162411, 162412] l: 2\n",
      "[89696, 89697] l: 2\n",
      "[76379, 76380] l: 2\n",
      "[53196, 53197] l: 2\n",
      "[101249, 101250] l: 2\n",
      "[4329, 4330] l: 2\n",
      "[90818, 90819] l: 2\n",
      "[104960, 104961] l: 2\n",
      "[37813, 37814] l: 2\n",
      "[158515, 158516] l: 2\n",
      "[112106, 112107] l: 2\n",
      "[15656, 15657] l: 2\n",
      "[13363, 13364] l: 2\n",
      "[98785, 98786] l: 2\n",
      "[61397, 61398] l: 2\n",
      "[22189, 22190] l: 2\n",
      "[167210, 167211] l: 2\n"
     ]
    }
   ],
   "source": [
    "printDupGroups(intakes_cleaned)"
   ]
  },
  {
   "cell_type": "markdown",
   "metadata": {},
   "source": [
    "Vidím, že duplictní jsou vždy dvojice, po sobě následujících řádků. To vypadá, že by se mohlo jednat o chybu, proto je odstraním. "
   ]
  },
  {
   "cell_type": "code",
   "execution_count": 534,
   "metadata": {},
   "outputs": [],
   "source": [
    "intakes_cleaned = intakes_cleaned.drop_duplicates()"
   ]
  },
  {
   "cell_type": "markdown",
   "metadata": {},
   "source": [
    "Jako poslední část vizualizuji distribuci chybějících dat v Intakes."
   ]
  },
  {
   "cell_type": "code",
   "execution_count": 535,
   "metadata": {},
   "outputs": [],
   "source": [
    "def missingValuesGraph(df, name):\n",
    "    fig, ax = plt.subplots(figsize=(14, 6))\n",
    "    cmap = colors.ListedColormap([\"darkslategrey\", \"white\"])\n",
    "    ax.imshow(\n",
    "        df.isna(),\n",
    "        aspect=\"auto\",\n",
    "        cmap=cmap,\n",
    "        interpolation=\"none\",\n",
    "        vmin=0,\n",
    "        vmax=1,\n",
    "    )\n",
    "    ax.set_xlabel(\"Columns\")\n",
    "    ax.set_ylabel(\"Rows\")\n",
    "\n",
    "    num_columns = len(df.columns)\n",
    "\n",
    "    ax.set_xticks(np.arange(num_columns))\n",
    "    ax.tick_params(axis=\"x\", which=\"major\", length=0)\n",
    "    ax.set_xticklabels(df.columns, rotation=45, ha=\"right\")\n",
    "\n",
    "    # minor ticks for the lines to split the collumns\n",
    "    ax.set_xticks(np.arange(0.5, num_columns + 0.5, 1), minor=True)\n",
    "\n",
    "    legend_elements = [\n",
    "        Patch(facecolor=\"darkslategrey\", edgecolor=\"black\", label=\"Present Value\"),\n",
    "        Patch(facecolor=\"white\", edgecolor=\"black\", label=\"Missing Value\"),\n",
    "    ]\n",
    "\n",
    "    ax.legend(\n",
    "        handles=legend_elements,\n",
    "        loc=\"upper right\",\n",
    "        bbox_to_anchor=(1.05, -0.1),\n",
    "        borderaxespad=0.0,\n",
    "    )\n",
    "\n",
    "    ax.grid(\n",
    "        which=\"minor\",\n",
    "        visible=True,\n",
    "        axis=\"x\",\n",
    "        color=\"white\",\n",
    "        linestyle=\"-\",\n",
    "        linewidth=1.0,\n",
    "    )\n",
    "\n",
    "    ax.set_yticks(range(0, len(df), max(1, len(df) // 5)))\n",
    "    ax.set_title(f\"Missing Values in {name}\")"
   ]
  },
  {
   "cell_type": "code",
   "execution_count": 536,
   "metadata": {},
   "outputs": [
    {
     "data": {
      "image/png": "[encoded data removed]",
      "text/plain": [
       "<Figure size 1400x600 with 1 Axes>"
      ]
     },
     "metadata": {},
     "output_type": "display_data"
    }
   ],
   "source": [
    "missingValuesGraph(intakes_cleaned, \"Intakes\")"
   ]
  },
  {
   "cell_type": "markdown",
   "metadata": {},
   "source": [
    "### Outcomes\n",
    "\n",
    "Nyní předzpracuji data v tabulce outcomes. Provedu podobné kroky jako při zpracování intakes.\n",
    "\n",
    "\n",
    "- Animal ID\n",
    "  - unikátní identifikátor zvířete\n",
    "- Name\n",
    "  - jméno zvířete\n",
    "- DataTime\n",
    "  - čas a datum příchodu zvířete do útulku\n",
    "- MonthYear\n",
    "  - rok a měsíc příchodu zvířete do útulku\n",
    "- Date of Birth\n",
    "- Outcome Type\n",
    "  - typ odchodu např. adopce, návrat majiteli, přesun jinam, eutanázie atd.\n",
    "- Outcome Subtype\n",
    "\n",
    "- Animal Type\n",
    "  - typ zvířete např. pes, kočka, dobytek atd.\n",
    "- Sex upon Outcome\n",
    "  - pohlaví zvířete, a jestli probhěla kastrace\n",
    "- Breed\n",
    "- Color"
   ]
  },
  {
   "cell_type": "code",
   "execution_count": 537,
   "metadata": {},
   "outputs": [
    {
     "data": {
      "text/html": [
       "<div>\n",
       "<style scoped>\n",
       "    .dataframe tbody tr th:only-of-type {\n",
       "        vertical-align: middle;\n",
       "    }\n",
       "\n",
       "    .dataframe tbody tr th {\n",
       "        vertical-align: top;\n",
       "    }\n",
       "\n",
       "    .dataframe thead th {\n",
       "        text-align: right;\n",
       "    }\n",
       "</style>\n",
       "<table border=\"1\" class=\"dataframe\">\n",
       "  <thead>\n",
       "    <tr style=\"text-align: right;\">\n",
       "      <th></th>\n",
       "      <th>Animal ID</th>\n",
       "      <th>Name</th>\n",
       "      <th>DateTime</th>\n",
       "      <th>MonthYear</th>\n",
       "      <th>Date of Birth</th>\n",
       "      <th>Outcome Type</th>\n",
       "      <th>Outcome Subtype</th>\n",
       "      <th>Animal Type</th>\n",
       "      <th>Sex upon Outcome</th>\n",
       "      <th>Age upon Outcome</th>\n",
       "      <th>Breed</th>\n",
       "      <th>Color</th>\n",
       "    </tr>\n",
       "  </thead>\n",
       "  <tbody>\n",
       "    <tr>\n",
       "      <th>0</th>\n",
       "      <td>A882831</td>\n",
       "      <td>*Hamilton</td>\n",
       "      <td>07/01/2023 06:12:00 PM</td>\n",
       "      <td>Jul 2023</td>\n",
       "      <td>03/25/2023</td>\n",
       "      <td>Adoption</td>\n",
       "      <td>NaN</td>\n",
       "      <td>Cat</td>\n",
       "      <td>Neutered Male</td>\n",
       "      <td>3 months</td>\n",
       "      <td>Domestic Shorthair Mix</td>\n",
       "      <td>Black/White</td>\n",
       "    </tr>\n",
       "    <tr>\n",
       "      <th>1</th>\n",
       "      <td>A794011</td>\n",
       "      <td>Chunk</td>\n",
       "      <td>05/08/2019 06:20:00 PM</td>\n",
       "      <td>May 2019</td>\n",
       "      <td>05/02/2017</td>\n",
       "      <td>Rto-Adopt</td>\n",
       "      <td>NaN</td>\n",
       "      <td>Cat</td>\n",
       "      <td>Neutered Male</td>\n",
       "      <td>2 years</td>\n",
       "      <td>Domestic Shorthair Mix</td>\n",
       "      <td>Brown Tabby/White</td>\n",
       "    </tr>\n",
       "    <tr>\n",
       "      <th>2</th>\n",
       "      <td>A776359</td>\n",
       "      <td>Gizmo</td>\n",
       "      <td>07/18/2018 04:02:00 PM</td>\n",
       "      <td>Jul 2018</td>\n",
       "      <td>07/12/2017</td>\n",
       "      <td>Adoption</td>\n",
       "      <td>NaN</td>\n",
       "      <td>Dog</td>\n",
       "      <td>Neutered Male</td>\n",
       "      <td>1 year</td>\n",
       "      <td>Chihuahua Shorthair Mix</td>\n",
       "      <td>White/Brown</td>\n",
       "    </tr>\n",
       "    <tr>\n",
       "      <th>3</th>\n",
       "      <td>A821648</td>\n",
       "      <td>NaN</td>\n",
       "      <td>08/16/2020 11:38:00 AM</td>\n",
       "      <td>Aug 2020</td>\n",
       "      <td>08/16/2019</td>\n",
       "      <td>Euthanasia</td>\n",
       "      <td>NaN</td>\n",
       "      <td>Other</td>\n",
       "      <td>Unknown</td>\n",
       "      <td>1 year</td>\n",
       "      <td>Raccoon</td>\n",
       "      <td>Gray</td>\n",
       "    </tr>\n",
       "    <tr>\n",
       "      <th>4</th>\n",
       "      <td>A720371</td>\n",
       "      <td>Moose</td>\n",
       "      <td>02/13/2016 05:59:00 PM</td>\n",
       "      <td>Feb 2016</td>\n",
       "      <td>10/08/2015</td>\n",
       "      <td>Adoption</td>\n",
       "      <td>NaN</td>\n",
       "      <td>Dog</td>\n",
       "      <td>Neutered Male</td>\n",
       "      <td>4 months</td>\n",
       "      <td>Anatol Shepherd/Labrador Retriever</td>\n",
       "      <td>Buff</td>\n",
       "    </tr>\n",
       "  </tbody>\n",
       "</table>\n",
       "</div>"
      ],
      "text/plain": [
       "  Animal ID       Name                DateTime MonthYear Date of Birth  \\\n",
       "0   A882831  *Hamilton  07/01/2023 06:12:00 PM  Jul 2023    03/25/2023   \n",
       "1   A794011      Chunk  05/08/2019 06:20:00 PM  May 2019    05/02/2017   \n",
       "2   A776359      Gizmo  07/18/2018 04:02:00 PM  Jul 2018    07/12/2017   \n",
       "3   A821648        NaN  08/16/2020 11:38:00 AM  Aug 2020    08/16/2019   \n",
       "4   A720371      Moose  02/13/2016 05:59:00 PM  Feb 2016    10/08/2015   \n",
       "\n",
       "  Outcome Type Outcome Subtype Animal Type Sex upon Outcome Age upon Outcome  \\\n",
       "0     Adoption             NaN         Cat    Neutered Male         3 months   \n",
       "1    Rto-Adopt             NaN         Cat    Neutered Male          2 years   \n",
       "2     Adoption             NaN         Dog    Neutered Male           1 year   \n",
       "3   Euthanasia             NaN       Other          Unknown           1 year   \n",
       "4     Adoption             NaN         Dog    Neutered Male         4 months   \n",
       "\n",
       "                                Breed              Color  \n",
       "0              Domestic Shorthair Mix        Black/White  \n",
       "1              Domestic Shorthair Mix  Brown Tabby/White  \n",
       "2             Chihuahua Shorthair Mix        White/Brown  \n",
       "3                             Raccoon               Gray  \n",
       "4  Anatol Shepherd/Labrador Retriever               Buff  "
      ]
     },
     "execution_count": 537,
     "metadata": {},
     "output_type": "execute_result"
    }
   ],
   "source": [
    "outcomes.head()"
   ]
  },
  {
   "cell_type": "code",
   "execution_count": 538,
   "metadata": {},
   "outputs": [
    {
     "name": "stdout",
     "output_type": "stream",
     "text": [
      "Counts of unique values for each feature:\n",
      "Outcome Type: 12\n",
      "['Adoption' 'Rto-Adopt' 'Euthanasia' 'Transfer' 'Return to Owner' 'Died'\n",
      " 'Disposal' 'Missing' nan 'Relocate' 'Stolen' 'Lost']\n",
      "\n",
      "Outcome Subtype: 27\n",
      "[nan 'Partner' 'Foster' 'Snr' 'SCRP' 'Out State' 'Suffering' 'At Vet'\n",
      " 'Underage' 'Rabies Risk' 'In Kennel' 'Offsite' 'Aggressive' 'Field'\n",
      " 'Emergency' 'Enroute' 'In Foster' 'Behavior' 'Medical'\n",
      " 'Court/Investigation' 'Possible Theft' 'Barn' 'Customer S' 'In State'\n",
      " 'Emer' 'In Surgery' 'Prc']\n",
      "\n",
      "Animal Type: 5\n",
      "['Cat' 'Dog' 'Other' 'Bird' 'Livestock']\n",
      "\n",
      "Sex upon Outcome: 6\n",
      "['Neutered Male' 'Unknown' 'Intact Male' 'Spayed Female' 'Intact Female'\n",
      " nan]\n",
      "\n",
      "Breed: 2964\n",
      "['Domestic Shorthair Mix' 'Chihuahua Shorthair Mix' 'Raccoon' ...\n",
      " 'Lhasa Apso/Standard Poodle' 'Dachshund Wirehair/Bruss Griffon'\n",
      " 'Miniature Schnauzer/Beagle']\n",
      "\n",
      "Color: 653\n",
      "['Black/White' 'Brown Tabby/White' 'White/Brown' 'Gray' 'Buff'\n",
      " 'Orange Tabby' 'Brown' 'Blue Tabby' 'Brown Tabby' 'Black'\n",
      " 'White/Orange Tabby' 'Blue/White' 'White/Blue' 'Red/White' 'Black/Gray'\n",
      " 'Torbie' 'Brown/Black' 'Lilac Point' 'Blue' 'Calico' 'Tricolor'\n",
      " 'White/Tan' 'Chocolate' 'White' 'Brown/White' 'Brown Brindle/White'\n",
      " 'Black/Brown' 'Tan/White' 'Chocolate/White' 'Red' 'Black/Tan'\n",
      " 'White/White' 'Cream Tabby' 'Blue Tick/Black' 'White/Black' 'Fawn/Tan'\n",
      " 'Gray/Black' 'Tortie' 'Tan' 'White/Blue Tabby' 'Sable/Tan'\n",
      " 'Brown Brindle' 'Brown/Brown' 'Tan/Brown' 'Cream/Brown' 'Gray/White'\n",
      " 'Brown/Gray' 'Blue Tabby/White' 'Orange Tabby/White' 'Blue Merle'\n",
      " 'Brown Merle/White' 'Silver' 'Apricot' 'Apricot/Brown' 'Green'\n",
      " 'Tortie Point' 'Tan/Black' 'Seal Point' 'Torbie/Brown Tabby'\n",
      " 'Lynx Point/White' 'Fawn/White' 'Blue Tick' 'Tricolor/White' 'White/Gray'\n",
      " 'Black/Tricolor' 'Chocolate/Tan' 'White/Brown Tabby'\n",
      " 'White/Brown Brindle' 'Lynx Point' 'White/Buff' 'Cream' 'Blue/Tan'\n",
      " 'Black Brindle/White' 'Sable' 'Yellow' 'Black/Yellow Brindle'\n",
      " 'Chocolate/Black' 'Black/Red' 'Cream/White' 'Blue/Brown Brindle'\n",
      " 'Yellow Brindle/White' 'Cream Tabby/White' 'Tan/Gray' 'Red/Buff'\n",
      " 'Chocolate Point' 'Blue Smoke' 'Black/Brown Brindle' 'Torbie/White'\n",
      " 'Brown/Tan' 'Silver Tabby' 'Gray Tabby' 'White/Red' 'Sable/Cream'\n",
      " 'Brown/Orange' 'Black Brindle' 'White/Tricolor' 'Sable/Black'\n",
      " 'Orange/White' 'Brown Brindle/Black' 'Brown Tiger/Brown'\n",
      " 'Seal Point/White' 'Brown Tabby/Black' 'Yellow Brindle' 'Black/Chocolate'\n",
      " 'Gold/White' 'White/Cream Tabby' 'Red/Black' 'Buff/Black' 'Red/Tan'\n",
      " 'Buff/White' 'Flame Point' 'White/Orange' 'Black Tabby' 'Tricolor/Brown'\n",
      " 'Seal Point/Gray' 'Silver/Tan' 'Gray Tabby/White' 'Blue Merle/Brown'\n",
      " 'Brown/Tricolor' 'Black Tabby/White' 'Brown Tabby/Gold' 'Yellow/White'\n",
      " 'White/Red Tick' 'Fawn' 'Brown Brindle/Brown' 'Cream/Black' 'Gray/Tortie'\n",
      " 'Sable/White' 'Gray/Tan' 'Black Smoke' 'Fawn/Black' 'Calico Point/Gray'\n",
      " 'Black/Black' 'White/Lilac Point' 'Red/Cream' 'Blue Cream'\n",
      " 'White/Red Merle' 'Gray/Brown' 'Gold' 'Tortie/White' 'Green/Silver'\n",
      " 'Brown/Red' 'Green/Gray' 'Tricolor/Tan' 'White/Cream'\n",
      " 'Black Brindle/Brown' 'Gray/Blue Merle' 'White/Blue Merle'\n",
      " 'White/Black Tabby' 'Silver Tabby/White' 'Black/Cream'\n",
      " 'Brown/Brown Brindle' 'Brown/Fawn' 'Gray Tabby/Black' 'Green/Yellow'\n",
      " 'Brown Merle' 'Gold/Cream' 'Orange' 'Blue Merle/Tricolor'\n",
      " 'Tricolor/Blue Tick' 'Red Merle/White' 'Red Merle' 'Yellow/Yellow'\n",
      " 'Blue Point/White' 'Sable/Brown' 'Black/Blue Tick' 'Black/Black Tabby'\n",
      " 'Chocolate/Tricolor' 'White/Gray Tabby' 'Calico/White' 'Blue/Tricolor'\n",
      " 'White/Chocolate' 'Tricolor/Black' 'Silver Lynx Point' 'Blue/Blue'\n",
      " 'Tan/Fawn' 'Blue Merle/White' 'Lynx Point/Blue' 'Red Tick'\n",
      " 'Blue Merle/Tan' 'Tan/Silver' 'White/Seal Point' 'Gold/Tan' 'Liver/Tan'\n",
      " 'Red/Brown' 'Liver/White' 'Chocolate Point/White' 'Gray/Pink'\n",
      " 'Black Brindle/Blue' 'Brown Brindle/Red Tick' 'Black Smoke/White'\n",
      " 'Green/Black' 'Red Tick/Blue Tick' 'White/Yellow' 'Torbie/Brown'\n",
      " 'Brown/Cream' 'Gray/Orange' 'White/Fawn' 'Calico Point' 'Blue Tick/Tan'\n",
      " 'Cream/Gold' 'Torbie/Orange' 'Red/Gray' 'Lilac Point/White' 'Blue/Orange'\n",
      " 'Cream/Tan' 'Buff/Brown' 'Tan/Tan' 'Brown/Brown Tiger' 'Brown/Chocolate'\n",
      " 'Black/Fawn' 'Liver Tick' 'Calico Point/White' 'Tortie/Black'\n",
      " 'Brown Tiger' 'Brown Brindle/Brown Brindle' 'Green/Brown' 'Brown/Buff'\n",
      " 'Black/Silver' 'White/Calico' 'Blue Merle/Red' 'Cream/Silver'\n",
      " 'White/Brown Merle' 'Gray/Gray' 'White/Gray Tiger' 'Red Tick/White'\n",
      " 'Tan/Gold' 'Tan/Red' 'Gold/Brown' 'Liver Tick/Brown' 'Silver/Gray'\n",
      " 'Blue Merle/Black' 'Cream/Brown Merle' 'White/Black Brindle'\n",
      " 'Tricolor/Brown Brindle' 'Lilac Point/Gray' 'Black Tiger' 'Pink'\n",
      " 'Tricolor/Red' 'Buff/Yellow' 'Black/Buff' 'Blue Tick/Tricolor'\n",
      " 'Brown Tabby/Brown Tabby' 'Blue/Blue Tick' 'Blue Point'\n",
      " 'Brown Brindle/Tan' 'Silver/Brown' 'Fawn/Brown' 'Brown Brindle/Fawn'\n",
      " 'Blue Cream/White' 'Gray/Tricolor' 'Blue/Fawn' 'White/Blue Cream'\n",
      " 'Fawn/Tricolor' 'Black Brindle/Black' 'White/Liver' 'Tortie/Tortie'\n",
      " 'Chocolate/Brown Tabby' 'Tortie/Blue Cream' 'White/Tortie'\n",
      " 'Orange Tabby/Orange Tabby' 'Blue Tiger/Tan' 'Tan/Cream' 'Red/Yellow'\n",
      " 'Blue/Tortie' 'Lynx Point/Brown Tabby' 'Black Tabby/Orange'\n",
      " 'Black/Orange' 'Blue Tabby/Cream' 'Black/Blue' 'White/Agouti'\n",
      " 'Gold/Yellow' 'Blue Tiger/White' 'Tricolor/Fawn' 'Red/Red'\n",
      " 'Calico/Orange' 'Chocolate/Fawn' 'Orange/Orange Tabby'\n",
      " 'Tricolor/Blue Merle' 'Brown/Brown Tabby' 'White/Calico Point'\n",
      " 'Yellow/Red' 'Cream/Blue Point' 'Calico/Tricolor' 'Agouti' 'Calico/Black'\n",
      " 'Tan/Tricolor' 'Lilac Point/Black' 'White/Yellow Brindle' 'Brown/Silver'\n",
      " 'Tan/Blue Merle' 'Silver/Black' 'Tan/Blue' 'Black/Yellow' 'Yellow/Green'\n",
      " 'Flame Point/Cream' 'Agouti/White' 'Tortie Point/Seal Point'\n",
      " 'Red Tick/Tan' 'Brown/Green' 'Brown Tiger/White' 'Yellow/Black'\n",
      " 'Torbie/Blue Tabby' 'Blue Merle/Red Merle' 'Cream/Orange'\n",
      " 'Blue Tick/White' 'Gray/Cream' 'Silver/Chocolate' 'Chocolate/Cream'\n",
      " 'Tan/Blue Tick' 'Buff/Tan' 'Tan/Buff' 'Blue/Black' 'Liver/Blue'\n",
      " 'Blue Tiger' 'Blue/Gray' 'Gray Tabby/Gray' 'Tortie/Blue' 'Chocolate/Red'\n",
      " 'Gray/Blue' 'Brown/Red Merle' 'Gray/Buff' 'White/Flame Point'\n",
      " 'Chocolate/Brown Brindle' 'Tricolor/Blue' 'Red Tick/Red' 'Red Tick/Brown'\n",
      " 'Yellow/Blue' 'Gray/Yellow' 'Brown/Liver' 'Silver/Orange' 'Black/Pink'\n",
      " 'Calico/Brown' 'Tortie Point/Lynx Point' 'Cream/Blue' 'Black Tabby/Brown'\n",
      " 'Green/Red' 'Tricolor/Gray' 'Black/Black Brindle' 'Tortie/Orange'\n",
      " 'Silver/White' 'Cream/Yellow' 'Gray/Red' 'Black/Black Smoke'\n",
      " 'Blue Tick/Brown' 'Black Tiger/White' 'Brown Tabby/Tortie' 'Red/Silver'\n",
      " 'Brown/Yellow' 'Fawn/Blue' 'Red/Tricolor' 'Fawn/Cream' 'Silver/Red'\n",
      " 'Brown Tabby/Calico' 'Black/Blue Merle' 'Calico/Orange Tabby'\n",
      " 'Yellow/Orange' 'Brown Tabby/Brown' 'Blue Tick/Red' 'Seal Point/Cream'\n",
      " 'Gold/Black' 'Cream Tabby/Orange' 'Chocolate/Blue Tick' 'Red/Blue'\n",
      " 'Blue Tabby/Black' 'Brown Brindle/Gray' 'Brown/Seal Point'\n",
      " 'Blue Cream/Blue Tiger' 'Brown Merle/Tan' 'Blue Cream/Blue Tabby'\n",
      " 'Lynx Point/Tan' 'Chocolate/Gray' 'Brown Tabby/Orange'\n",
      " 'Blue Tabby/Tortie' 'White/Apricot' 'Tortie/Blue Merle'\n",
      " 'Black Smoke/Black Tabby' 'Red/Gold' 'Calico/Brown Tabby' 'Red/Red Merle'\n",
      " 'White/Silver' 'Fawn/Brown Brindle' 'Tan/Red Tick'\n",
      " 'Blue Merle/Blue Merle' 'Brown Tabby/Silver' 'Tortie/Gray'\n",
      " 'Blue Tick/Red Tick' 'Orange Tabby/Cream' 'Orange Tabby/Brown'\n",
      " 'Brown Tabby/Gray' 'Red/Red Tick' 'Torbie/Gray' 'Black/Green' 'Tan/Green'\n",
      " 'White/Blue Tick' 'Blue Merle/Brown Merle' 'Gray Tabby/Brown'\n",
      " 'Orange/Black' 'Tortie Point/White' 'White/Liver Tick' 'Red Merle/Black'\n",
      " 'Apricot/White' 'Cream/Seal Point' 'Brown Tabby/Tan' 'Tan/Red Merle'\n",
      " 'Gray/Green' 'Black/Brown Tabby' 'Blue/Blue Merle' 'Torbie/Blue Cream'\n",
      " 'Chocolate/Brown' 'Buff/Cream' 'Buff/Red' 'Fawn/Gray'\n",
      " 'Brown Brindle/Black Brindle' 'Red/Orange Tabby' 'Tan/Chocolate Point'\n",
      " 'Blue/Silver' 'Blue/Brown' 'Unknown' 'Orange Tabby/Orange'\n",
      " 'White/Silver Tabby' 'Blue Tick/Brown Brindle' 'White/Gold'\n",
      " 'Black Smoke/Brown Tabby' 'Calico/Blue Tabby' 'Brown Brindle/Tricolor'\n",
      " 'Orange/Brown' 'Gray/Gold' 'Liver Tick/White' 'Black Smoke/Black Tiger'\n",
      " 'Sable/Buff' 'Gray Tabby/Brown Tabby' 'Gold/Silver'\n",
      " 'Chocolate/Black Smoke' 'Seal Point/Brown' 'Cream Tiger/Brown Tabby'\n",
      " 'Gray/Gray Tabby' 'Black/Gold' 'Liver' 'Yellow/Tan' 'Blue/Green'\n",
      " 'Tan/Yellow' 'Lynx Point/Tortie Point' 'Gray/Silver' 'Cream/Gray'\n",
      " 'Brown Merle/Blue Merle' 'White/Chocolate Point' 'Black Brindle/Tan'\n",
      " 'White/Tortie Point' 'Black Tabby/Gray' 'Calico/Gray Tabby' 'Buff/Gray'\n",
      " 'Cream/Brown Tabby' 'Tricolor/Silver' 'Red Tick/Orange' 'Orange/Tan'\n",
      " 'Cream/Red' 'Gold/Buff' 'Green/Blue' 'Tricolor/Red Tick'\n",
      " 'Liver/Liver Tick' 'White/Pink' 'Sable/Gray' 'Orange Tabby/Tortie Point'\n",
      " 'Chocolate/Chocolate' 'Yellow/Gray' 'Chocolate Point/Cream'\n",
      " 'Black Brindle/Brown Brindle' 'Yellow/Cream' 'Silver/Silver Tabby'\n",
      " 'Gray/Brown Brindle' 'Tan/Yellow Brindle' 'Red Tick/Tricolor'\n",
      " 'Brown Merle/Brown Tabby' 'Flame Point/White' 'Tricolor/Calico'\n",
      " 'Red Tick/Blue' 'Calico/Calico' 'Orange Tabby/Apricot' 'Blue/Calico'\n",
      " 'Tortie/Black Smoke' 'Brown/Black Smoke' 'Calico Point/Lynx Point'\n",
      " 'Sable/Red' 'Black/Brown Merle' 'Tortie/Calico' 'Black Smoke/Gray'\n",
      " 'Brown Tabby/Black Tabby' 'Brown Merle/Black' 'Brown/Blue'\n",
      " 'Liver/Chocolate' 'White/Blue Tiger' 'White/Lynx Point'\n",
      " 'Red Tick/Brown Brindle' 'Gold/Gray' 'Red/Green' 'Blue/Cream'\n",
      " 'Black Smoke/Blue Tick' 'Tricolor/Cream' 'Gray Tabby/Orange'\n",
      " 'Brown Tabby/Blue' 'Blue Tabby/Buff' 'Chocolate/Gold' 'Gold/Gold'\n",
      " 'Torbie/Blue' 'Brown Merle/Brown' 'Brown Tabby/Cream'\n",
      " 'Brown Tabby/Agouti' 'Tortie/Brown' 'Torbie/Calico' 'Orange/Gray'\n",
      " 'Cream Tabby/Cream Tabby' 'Black Tabby/Black' 'Cream/Tricolor'\n",
      " 'Yellow/Orange Tabby' 'Brown Tabby/Orange Tabby' 'Green/Orange'\n",
      " 'Blue/Gold' 'White/Black Smoke' 'Gray Tabby/Tan' 'Black/Tortie'\n",
      " 'Brown Brindle/Blue Tick' 'Apricot/Tricolor' 'Blue Tabby/Tan'\n",
      " 'Brown Merle/Gray' 'Fawn/Chocolate' 'Blue Point/Lynx Point'\n",
      " 'Torbie/Silver Tabby' 'Blue Merle/Gray' 'Black Smoke/Black'\n",
      " 'Tan/Brown Brindle' 'Orange Tiger' 'Blue/Black Brindle'\n",
      " 'Blue Cream/Tortie' 'Blue Merle/Cream' 'Silver Lynx Point/White'\n",
      " 'Brown/Pink' 'Tricolor/Chocolate' 'Red Merle/Tricolor' 'White/Ruddy'\n",
      " 'Calico/Blue Cream' 'Lilac Point/Cream' 'Tan/Apricot' 'Calico/Gray'\n",
      " 'Seal Point/Silver' 'Blue Smoke/Brown' 'Gray/Fawn'\n",
      " 'Brown Tabby/Gray Tabby' 'Brown/Red Tick' 'Blue Point/Cream'\n",
      " 'Yellow Brindle/Black' 'Agouti/Gray' 'Brown/Black Brindle'\n",
      " 'Blue Smoke/White' 'Agouti/Brown Tabby' 'Yellow Brindle/Blue'\n",
      " 'Seal Point/Buff' 'Blue Tabby/Blue Cream' 'Torbie/Black'\n",
      " 'Orange/Tricolor' 'Red Merle/Brown Merle' 'Green/White'\n",
      " 'Brown Brindle/Blue' 'Brown Brindle/Chocolate' 'Black/Gray Tabby'\n",
      " 'Black Smoke/Brown' 'Brown Tiger/Cream' 'Silver/Cream'\n",
      " 'Blue Tabby/Brown Tabby' 'Chocolate/Brown Merle' 'Blue Tabby/Brown'\n",
      " 'Chocolate/Yellow' 'Black Brindle/Blue Tick' 'Brown/Blue Merle'\n",
      " 'Red Merle/Red Tick' 'Silver/Gray Tabby' 'Brown/Black Tabby'\n",
      " 'Brown Tabby/Red' 'Buff/Red Tick' 'Red Merle/Brown' 'Cream/Red Tick'\n",
      " 'Blue/Yellow' 'Brown Merle/Chocolate' 'Chocolate/Seal Point'\n",
      " 'White/Brown Tiger' 'Red Merle/Blue Merle' 'Red Merle/Red Merle'\n",
      " 'Tricolor/Orange' 'Yellow/Brown' 'Lynx Point/Blue Point' 'Red Tick/Black'\n",
      " 'Silver Lynx Point/Gray' 'Red Tick/Brown Merle' 'Silver/Blue'\n",
      " 'Ruddy/Cream' 'Orange/Blue' 'Brown Tiger/Black' 'Tricolor/Brown Merle'\n",
      " 'Lynx Point/Gray' 'Green/Gold' 'Liver/Brown Brindle'\n",
      " 'Blue Merle/Brown Brindle' 'Brown Merle/Brown Merle'\n",
      " 'Black Smoke/Chocolate' 'Chocolate/Red Tick' 'Black Tabby/Gray Tabby'\n",
      " 'Blue Tabby/Orange' 'Fawn/Yellow' 'Brown/Brown Merle' 'Tricolor/Tricolor'\n",
      " 'Lynx Point/Cream' 'Chocolate/Liver Tick' 'Blue Smoke/Tan'\n",
      " 'Silver Tabby/Black' 'Tan/Cream Tabby' 'Liver/Cream'\n",
      " 'Black Brindle/Yellow' 'Tortie Point/Cream' 'Cream/Cream'\n",
      " 'Brown Brindle/Brown Merle' 'Tan/Brown Merle' 'Liver/Buff'\n",
      " 'Blue Smoke/Gray' 'Green/Tricolor' 'White/Black Tiger'\n",
      " 'Lynx Point/Gray Tabby' 'Blue Tiger/Black' 'Brown Tabby/Black Brindle'\n",
      " 'Black Tabby/Black Smoke' 'Blue/Yellow Brindle' 'Brown/Gold'\n",
      " 'Brown Brindle/Blue Cream' 'Cream Tabby/Orange Tabby' 'Tortie/Gold'\n",
      " 'Tortie Point/Blue' 'Blue Cream/Buff' 'Tortie/Blue Tabby'\n",
      " 'Sable/Red Merle' 'Black/Seal Point' 'Agouti/Cream' 'White/Green'\n",
      " 'Cream/Green' 'Ruddy' 'Buff/Blue Merle' 'Red Merle/Tan'\n",
      " 'Orange Tabby/Tan' 'Brown Tabby/Lynx Point' 'Black/Silver Tabby'\n",
      " 'Red/Brown Brindle' 'Cream Tiger' 'Yellow Brindle/Brown'\n",
      " 'Orange Tabby/Black' 'Brown Brindle/Liver Tick']\n",
      "\n"
     ]
    }
   ],
   "source": [
    "categorical_features = [\n",
    "    \"Outcome Type\",\n",
    "    \"Outcome Subtype\",\n",
    "    \"Animal Type\",\n",
    "    \"Sex upon Outcome\",\n",
    "    \"Breed\",\n",
    "    \"Color\",\n",
    "]\n",
    "printUniqueValInCols(categorical_features, outcomes)"
   ]
  },
  {
   "cell_type": "code",
   "execution_count": 539,
   "metadata": {},
   "outputs": [
    {
     "name": "stdout",
     "output_type": "stream",
     "text": [
      "nan counts: \n",
      "Outcome Type: 44\n",
      "Outcome Subtype: 90591\n",
      "Animal Type: 0\n",
      "Sex upon Outcome: 3\n",
      "Breed: 0\n",
      "Color: 0\n",
      "\n",
      "Unknown counts: \n",
      "Outcome Type: 0\n",
      "Outcome Subtype: 0\n",
      "Animal Type: 0\n",
      "Sex upon Outcome: 13001\n",
      "Breed: 3\n",
      "Color: 1\n"
     ]
    }
   ],
   "source": [
    "print(\"nan counts: \")\n",
    "for feature in categorical_features:\n",
    "    print(f\"{feature}: {(outcomes[feature].isna()).sum()}\")\n",
    "\n",
    "print(\"\\nUnknown counts: \")\n",
    "for feature in categorical_features:\n",
    "    print(f\"{feature}: {(outcomes[feature] == 'Unknown').sum()}\")"
   ]
  },
  {
   "cell_type": "markdown",
   "metadata": {},
   "source": [
    "Podobně jako v intakes, Sex upon Outcome obsahuje jak hodnoty \"Unknown\", tak i hodnoty nan, Breed a Color také obsahují Unknown. Převedu tedy, všechny výskyty Unknown v těchto sloupcích na NaN. "
   ]
  },
  {
   "cell_type": "code",
   "execution_count": 540,
   "metadata": {},
   "outputs": [],
   "source": [
    "outcomes_cleaned = outcomes.copy()\n",
    "replaceUnknown(categorical_features, outcomes_cleaned)"
   ]
  },
  {
   "cell_type": "code",
   "execution_count": 541,
   "metadata": {},
   "outputs": [
    {
     "name": "stdout",
     "output_type": "stream",
     "text": [
      "nan counts: \n",
      "Outcome Type: 44\n",
      "Outcome Subtype: 90591\n",
      "Animal Type: 0\n",
      "Sex upon Outcome: 13004\n",
      "Breed: 3\n",
      "Color: 1\n",
      "\n",
      "Unknown counts: \n",
      "Outcome Type: 0\n",
      "Outcome Subtype: 0\n",
      "Animal Type: 0\n",
      "Sex upon Outcome: 0\n",
      "Breed: 0\n",
      "Color: 0\n"
     ]
    }
   ],
   "source": [
    "print(\"nan counts: \")\n",
    "for feature in categorical_features:\n",
    "    print(f\"{feature}: {(outcomes_cleaned[feature].isna()).sum()}\")\n",
    "\n",
    "print(\"\\nUnknown counts: \")\n",
    "for feature in categorical_features:\n",
    "    print(f\"{feature}: {(outcomes_cleaned[feature] == 'Unknown').sum()}\")"
   ]
  },
  {
   "cell_type": "code",
   "execution_count": 542,
   "metadata": {},
   "outputs": [
    {
     "name": "stdout",
     "output_type": "stream",
     "text": [
      "<class 'pandas.core.frame.DataFrame'>\n",
      "RangeIndex: 167559 entries, 0 to 167558\n",
      "Data columns (total 12 columns):\n",
      " #   Column            Non-Null Count   Dtype   \n",
      "---  ------            --------------   -----   \n",
      " 0   Animal ID         167559 non-null  object  \n",
      " 1   Name              119476 non-null  object  \n",
      " 2   DateTime          167559 non-null  object  \n",
      " 3   MonthYear         167559 non-null  object  \n",
      " 4   Date of Birth     167559 non-null  object  \n",
      " 5   Outcome Type      167515 non-null  category\n",
      " 6   Outcome Subtype   76968 non-null   category\n",
      " 7   Animal Type       167559 non-null  category\n",
      " 8   Sex upon Outcome  154555 non-null  category\n",
      " 9   Age upon Outcome  167512 non-null  object  \n",
      " 10  Breed             167556 non-null  category\n",
      " 11  Color             167558 non-null  category\n",
      "dtypes: category(6), object(6)\n",
      "memory usage: 9.1+ MB\n"
     ]
    }
   ],
   "source": [
    "outcomes_cleaned[categorical_features] = outcomes_cleaned[categorical_features].astype(\n",
    "    \"category\"\n",
    ")\n",
    "outcomes_cleaned.info()"
   ]
  },
  {
   "cell_type": "code",
   "execution_count": 543,
   "metadata": {},
   "outputs": [
    {
     "data": {
      "text/plain": [
       "array(['3 months', '2 years', '1 year', '4 months', '6 days', '7 years',\n",
       "       '2 months', '3 years', '2 days', '3 weeks', '11 years', '9 months',\n",
       "       '4 weeks', '2 weeks', '6 months', '9 years', '10 years', '1 month',\n",
       "       '8 years', '7 months', '6 years', '4 years', '12 years', '5 years',\n",
       "       '1 day', '1 weeks', '5 months', '5 days', '15 years', '10 months',\n",
       "       '4 days', '16 years', '8 months', nan, '13 years', '1 week',\n",
       "       '14 years', '11 months', '3 days', '0 years', '5 weeks',\n",
       "       '17 years', '18 years', '20 years', '22 years', '-2 years',\n",
       "       '19 years', '28 years', '-3 years', '23 years', '25 years',\n",
       "       '30 years', '-1 years', '24 years', '21 years', '-4 years'],\n",
       "      dtype=object)"
      ]
     },
     "execution_count": 543,
     "metadata": {},
     "output_type": "execute_result"
    }
   ],
   "source": [
    "outcomes_cleaned[\"Age upon Outcome\"].unique()"
   ]
  },
  {
   "cell_type": "markdown",
   "metadata": {},
   "source": [
    "Stejný problém jako v intakes. Vyřeším analogicky."
   ]
  },
  {
   "cell_type": "code",
   "execution_count": 544,
   "metadata": {},
   "outputs": [
    {
     "name": "stdout",
     "output_type": "stream",
     "text": [
      "0           90.0\n",
      "1          730.0\n",
      "2          365.0\n",
      "3          365.0\n",
      "4          120.0\n",
      "           ...  \n",
      "167554     730.0\n",
      "167555     730.0\n",
      "167556     730.0\n",
      "167557    3650.0\n",
      "167558     730.0\n",
      "Name: Age upon Outcome, Length: 167559, dtype: float64\n"
     ]
    }
   ],
   "source": [
    "outcomes_cleaned[\"Age upon Outcome\"] = outcomes_cleaned[\"Age upon Outcome\"].apply(\n",
    "    toDays\n",
    ")\n",
    "print(outcomes_cleaned[\"Age upon Outcome\"])"
   ]
  },
  {
   "cell_type": "markdown",
   "metadata": {},
   "source": [
    "**Převedení příznaku DateTime na typ datetime64**"
   ]
  },
  {
   "cell_type": "code",
   "execution_count": 545,
   "metadata": {},
   "outputs": [],
   "source": [
    "outcomes_cleaned[\"DateTime\"] = pd.to_datetime(outcomes[\"DateTime\"])"
   ]
  },
  {
   "cell_type": "markdown",
   "metadata": {},
   "source": [
    "**Další úpravy**\n",
    "\n",
    "Smažu sloupec MonthYear, redundantní data. Název měsíce a rok odchodu z útulku je obsažen ve sloupci DateTime. \n",
    "\n",
    "Poté odstraním duplicitní záznamy."
   ]
  },
  {
   "cell_type": "code",
   "execution_count": 546,
   "metadata": {},
   "outputs": [
    {
     "name": "stdout",
     "output_type": "stream",
     "text": [
      "<class 'pandas.core.frame.DataFrame'>\n",
      "RangeIndex: 167559 entries, 0 to 167558\n",
      "Data columns (total 11 columns):\n",
      " #   Column            Non-Null Count   Dtype         \n",
      "---  ------            --------------   -----         \n",
      " 0   Animal ID         167559 non-null  object        \n",
      " 1   Name              119476 non-null  object        \n",
      " 2   DateTime          167559 non-null  datetime64[ns]\n",
      " 3   Date of Birth     167559 non-null  object        \n",
      " 4   Outcome Type      167515 non-null  category      \n",
      " 5   Outcome Subtype   76968 non-null   category      \n",
      " 6   Animal Type       167559 non-null  category      \n",
      " 7   Sex upon Outcome  154555 non-null  category      \n",
      " 8   Age upon Outcome  167503 non-null  float64       \n",
      " 9   Breed             167556 non-null  category      \n",
      " 10  Color             167558 non-null  category      \n",
      "dtypes: category(6), datetime64[ns](1), float64(1), object(3)\n",
      "memory usage: 7.8+ MB\n"
     ]
    }
   ],
   "source": [
    "outcomes_cleaned = outcomes_cleaned.drop(\"MonthYear\", axis=1)\n",
    "outcomes_cleaned.info()"
   ]
  },
  {
   "cell_type": "code",
   "execution_count": 547,
   "metadata": {},
   "outputs": [
    {
     "name": "stdout",
     "output_type": "stream",
     "text": [
      "number of unique duplicite rows: 7\n",
      "all groups of duplcite rows:\n",
      "[164509, 164510] l: 2\n",
      "[133620, 133621] l: 2\n",
      "[160673, 160674] l: 2\n",
      "[140929, 140930] l: 2\n",
      "[6540, 6541] l: 2\n",
      "[44936, 44937] l: 2\n",
      "[35084, 35085] l: 2\n"
     ]
    }
   ],
   "source": [
    "printDupGroups(outcomes_cleaned)"
   ]
  },
  {
   "cell_type": "markdown",
   "metadata": {},
   "source": [
    "Podobná situace jako u intakes. Pravděpodobně chyby => odstraním duplcity."
   ]
  },
  {
   "cell_type": "code",
   "execution_count": 548,
   "metadata": {},
   "outputs": [],
   "source": [
    "outcomes_cleaned = outcomes_cleaned.drop_duplicates()"
   ]
  },
  {
   "cell_type": "code",
   "execution_count": 549,
   "metadata": {},
   "outputs": [
    {
     "data": {
      "image/png": "[encoded data removed]",
      "text/plain": [
       "<Figure size 1400x600 with 1 Axes>"
      ]
     },
     "metadata": {},
     "output_type": "display_data"
    }
   ],
   "source": [
    "missingValuesGraph(outcomes_cleaned, \"Outcomes\")  # chybejici hodnoty v outcomes"
   ]
  },
  {
   "cell_type": "markdown",
   "metadata": {},
   "source": [
    "Můžeme si všimnout, že příznak Outcome Subtype obsahuje hodně chybějících dat. Stojí za zvážení, jestli ho celý nezrušit."
   ]
  },
  {
   "cell_type": "markdown",
   "metadata": {},
   "source": [
    "## Deskriptivní statistiky\n",
    "\n",
    "//TODO"
   ]
  },
  {
   "cell_type": "markdown",
   "metadata": {},
   "source": []
  }
 ],
 "metadata": {
  "kernelspec": {
   "display_name": "Python 3 (ipykernel)",
   "language": "python",
   "name": "python3"
  },
  "language_info": {
   "codemirror_mode": {
    "name": "ipython",
    "version": 3
   },
   "file_extension": ".py",
   "mimetype": "text/x-python",
   "name": "python",
   "nbconvert_exporter": "python",
   "pygments_lexer": "ipython3",
   "version": "3.8.18"
  }
 },
 "nbformat": 4,
 "nbformat_minor": 2
}
